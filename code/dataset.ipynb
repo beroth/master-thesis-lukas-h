{
 "cells": [
  {
   "metadata": {
    "ExecuteTime": {
     "end_time": "2024-07-17T08:51:29.642889Z",
     "start_time": "2024-07-17T08:51:28.734518Z"
    }
   },
   "cell_type": "code",
   "source": [
    "from datasets import load_dataset\n",
    "from config import lima_dataset_path"
   ],
   "id": "initial_id",
   "outputs": [],
   "execution_count": 1
  },
  {
   "metadata": {
    "ExecuteTime": {
     "end_time": "2024-07-17T08:51:35.817862Z",
     "start_time": "2024-07-17T08:51:32.768125Z"
    }
   },
   "cell_type": "code",
   "source": "data = load_dataset(\"allenai/tulu-v2-sft-mixture\", split=\"train\")",
   "id": "8699159261203cdf",
   "outputs": [],
   "execution_count": 2
  },
  {
   "metadata": {
    "ExecuteTime": {
     "end_time": "2024-07-17T08:51:44.297850Z",
     "start_time": "2024-07-17T08:51:44.289022Z"
    }
   },
   "cell_type": "code",
   "source": [
    "# select only data where dataset is \"lima\"\n",
    "lima_data = data.filter(lambda x: x[\"dataset\"] == \"lima\")"
   ],
   "id": "8da34de505209132",
   "outputs": [],
   "execution_count": 3
  },
  {
   "metadata": {
    "ExecuteTime": {
     "end_time": "2024-07-17T08:51:47.116763Z",
     "start_time": "2024-07-17T08:51:47.103964Z"
    }
   },
   "cell_type": "code",
   "source": [
    "single_question_answers = lima_data.filter(lambda x: len(x[\"messages\"]) == 2)\n",
    "single_question_answers"
   ],
   "id": "5adf92c41e5c5fb4",
   "outputs": [
    {
     "data": {
      "text/plain": [
       "Dataset({\n",
       "    features: ['dataset', 'id', 'messages'],\n",
       "    num_rows: 988\n",
       "})"
      ]
     },
     "execution_count": 4,
     "metadata": {},
     "output_type": "execute_result"
    }
   ],
   "execution_count": 4
  },
  {
   "metadata": {
    "ExecuteTime": {
     "end_time": "2024-07-17T08:52:46.762884Z",
     "start_time": "2024-07-17T08:52:46.710588Z"
    }
   },
   "cell_type": "code",
   "source": "single_question_answers.save_to_disk(data_path)",
   "id": "1fe2976fb98577df",
   "outputs": [
    {
     "data": {
      "text/plain": [
       "Saving the dataset (0/1 shards):   0%|          | 0/988 [00:00<?, ? examples/s]"
      ],
      "application/vnd.jupyter.widget-view+json": {
       "version_major": 2,
       "version_minor": 0,
       "model_id": "36caec89876746b2823450fe3074f6c8"
      }
     },
     "metadata": {},
     "output_type": "display_data"
    }
   ],
   "execution_count": 5
  },
  {
   "metadata": {},
   "cell_type": "code",
   "outputs": [],
   "execution_count": null,
   "source": "",
   "id": "176ddd910cbb6da0"
  }
 ],
 "metadata": {
  "kernelspec": {
   "display_name": "Python 3",
   "language": "python",
   "name": "python3"
  },
  "language_info": {
   "codemirror_mode": {
    "name": "ipython",
    "version": 2
   },
   "file_extension": ".py",
   "mimetype": "text/x-python",
   "name": "python",
   "nbconvert_exporter": "python",
   "pygments_lexer": "ipython2",
   "version": "2.7.6"
  }
 },
 "nbformat": 4,
 "nbformat_minor": 5
}
