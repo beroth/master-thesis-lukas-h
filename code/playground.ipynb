{
 "cells": [
  {
   "cell_type": "code",
   "id": "initial_id",
   "metadata": {
    "collapsed": true,
    "ExecuteTime": {
     "end_time": "2024-09-06T11:30:30.701638Z",
     "start_time": "2024-09-06T11:30:27.765732Z"
    }
   },
   "source": [
    "from transformers import AutoModelForCausalLM, AutoTokenizer\n",
    "from datasets import load_from_disk\n",
    "\n",
    "from config import data_path, hf_model_id\n",
    "import torch\n",
    "import numpy as np\n",
    "import random\n",
    "import gc\n",
    "\n",
    "from utilities.dataset import prepare_dataset\n",
    "from utilities.gradient_operations import get_gradients, get_flattened_weight_vector"
   ],
   "outputs": [
    {
     "name": "stdout",
     "output_type": "stream",
     "text": [
      "[2024-09-06 13:30:29,342] [INFO] [real_accelerator.py:203:get_accelerator] Setting ds_accelerator to cuda (auto detect)\n"
     ]
    },
    {
     "name": "stderr",
     "output_type": "stream",
     "text": [
      "/home/lukashinterleitner/anaconda3/envs/master-thesis/compiler_compat/ld: cannot find -laio: No such file or directory\n",
      "collect2: error: ld returned 1 exit status\n"
     ]
    },
    {
     "name": "stdout",
     "output_type": "stream",
     "text": [
      "\u001B[93m [WARNING] \u001B[0m async_io requires the dev libaio .so object and headers but these were not found.\n",
      "\u001B[93m [WARNING] \u001B[0m async_io: please install the libaio-dev package with apt\n",
      "\u001B[93m [WARNING] \u001B[0m If libaio is already installed (perhaps from source), try setting the CFLAGS and LDFLAGS environment variables to where it can be found.\n",
      "\u001B[93m [WARNING] \u001B[0m Please specify the CUTLASS repo directory as environment variable $CUTLASS_PATH\n",
      "\u001B[93m [WARNING] \u001B[0m NVIDIA Inference is only supported on Ampere and newer architectures\n",
      "\u001B[93m [WARNING] \u001B[0m sparse_attn requires a torch version >= 1.5 and < 2.0 but detected 2.2\n",
      "\u001B[93m [WARNING] \u001B[0m using untested triton version (2.2.0), only 1.0.0 is known to be compatible\n"
     ]
    }
   ],
   "execution_count": 1
  },
  {
   "metadata": {
    "ExecuteTime": {
     "end_time": "2024-09-06T11:30:30.708653Z",
     "start_time": "2024-09-06T11:30:30.705328Z"
    }
   },
   "cell_type": "code",
   "source": [
    "# Set seeds for reproducibility\n",
    "torch.manual_seed(42)\n",
    "np.random.seed(42)\n",
    "random.seed(42)\n",
    "torch.backends.cudnn.deterministic = True\n",
    "torch.backends.cudnn.benchmark = False"
   ],
   "id": "90b75d9602a71805",
   "outputs": [],
   "execution_count": 2
  },
  {
   "metadata": {
    "ExecuteTime": {
     "end_time": "2024-09-06T11:30:30.843749Z",
     "start_time": "2024-09-06T11:30:30.751283Z"
    }
   },
   "cell_type": "code",
   "source": [
    "torch.cuda.empty_cache()\n",
    "gc.collect()"
   ],
   "id": "aef837f88c2ee075",
   "outputs": [
    {
     "data": {
      "text/plain": [
       "154"
      ]
     },
     "execution_count": 3,
     "metadata": {},
     "output_type": "execute_result"
    }
   ],
   "execution_count": 3
  },
  {
   "metadata": {
    "ExecuteTime": {
     "end_time": "2024-09-06T11:30:31.884042Z",
     "start_time": "2024-09-06T11:30:30.941344Z"
    }
   },
   "cell_type": "code",
   "source": [
    "model = AutoModelForCausalLM.from_pretrained(hf_model_id)\n",
    "tokenizer = AutoTokenizer.from_pretrained(hf_model_id)\n",
    "\n",
    "print(tokenizer.eos_token_id)\n",
    "print(tokenizer.pad_token_id)"
   ],
   "id": "76dff320a11487b1",
   "outputs": [
    {
     "name": "stdout",
     "output_type": "stream",
     "text": [
      "50279\n",
      "1\n"
     ]
    }
   ],
   "execution_count": 4
  },
  {
   "metadata": {
    "ExecuteTime": {
     "end_time": "2024-09-06T11:30:31.898980Z",
     "start_time": "2024-09-06T11:30:31.896342Z"
    }
   },
   "cell_type": "code",
   "source": [
    "device = torch.device('cuda' if torch.cuda.is_available() else 'cpu')\n",
    "device"
   ],
   "id": "a84ddcd79495f714",
   "outputs": [
    {
     "data": {
      "text/plain": [
       "device(type='cuda')"
      ]
     },
     "execution_count": 5,
     "metadata": {},
     "output_type": "execute_result"
    }
   ],
   "execution_count": 5
  },
  {
   "metadata": {
    "ExecuteTime": {
     "end_time": "2024-09-06T11:30:31.946854Z",
     "start_time": "2024-09-06T11:30:31.940987Z"
    }
   },
   "cell_type": "code",
   "source": "model.eval()",
   "id": "3901360d996a6e24",
   "outputs": [
    {
     "data": {
      "text/plain": [
       "OlmoForCausalLM(\n",
       "  (model): OlmoModel(\n",
       "    (embed_tokens): Embedding(50304, 2048, padding_idx=1)\n",
       "    (layers): ModuleList(\n",
       "      (0-15): 16 x OlmoDecoderLayer(\n",
       "        (self_attn): OlmoSdpaAttention(\n",
       "          (q_proj): Linear(in_features=2048, out_features=2048, bias=False)\n",
       "          (k_proj): Linear(in_features=2048, out_features=2048, bias=False)\n",
       "          (v_proj): Linear(in_features=2048, out_features=2048, bias=False)\n",
       "          (o_proj): Linear(in_features=2048, out_features=2048, bias=False)\n",
       "          (rotary_emb): OlmoRotaryEmbedding()\n",
       "        )\n",
       "        (mlp): OlmoMLP(\n",
       "          (gate_proj): Linear(in_features=2048, out_features=8192, bias=False)\n",
       "          (up_proj): Linear(in_features=2048, out_features=8192, bias=False)\n",
       "          (down_proj): Linear(in_features=8192, out_features=2048, bias=False)\n",
       "          (act_fn): SiLU()\n",
       "        )\n",
       "        (input_layernorm): OlmoLayerNorm()\n",
       "        (post_attention_layernorm): OlmoLayerNorm()\n",
       "      )\n",
       "    )\n",
       "    (norm): OlmoLayerNorm()\n",
       "  )\n",
       "  (lm_head): Linear(in_features=2048, out_features=50304, bias=False)\n",
       ")"
      ]
     },
     "execution_count": 6,
     "metadata": {},
     "output_type": "execute_result"
    }
   ],
   "execution_count": 6
  },
  {
   "metadata": {
    "ExecuteTime": {
     "end_time": "2024-09-06T11:30:31.998376Z",
     "start_time": "2024-09-06T11:30:31.992045Z"
    }
   },
   "cell_type": "code",
   "source": [
    "dataset = load_from_disk(data_path)\n",
    "dataset"
   ],
   "id": "f9416b8e7e4618dd",
   "outputs": [
    {
     "data": {
      "text/plain": [
       "Dataset({\n",
       "    features: ['dataset', 'id', 'messages'],\n",
       "    num_rows: 988\n",
       "})"
      ]
     },
     "execution_count": 7,
     "metadata": {},
     "output_type": "execute_result"
    }
   ],
   "execution_count": 7
  },
  {
   "metadata": {
    "ExecuteTime": {
     "end_time": "2024-09-06T11:30:32.075233Z",
     "start_time": "2024-09-06T11:30:32.061562Z"
    }
   },
   "cell_type": "code",
   "source": "dataset[\"messages\"][0][0][\"content\"]",
   "id": "7bbf28c6539c0543",
   "outputs": [
    {
     "data": {
      "text/plain": [
       "'Can brain cells move? By movement I mean long distance migration (preferably within the brain only).'"
      ]
     },
     "execution_count": 8,
     "metadata": {},
     "output_type": "execute_result"
    }
   ],
   "execution_count": 8
  },
  {
   "metadata": {
    "ExecuteTime": {
     "end_time": "2024-09-06T11:30:32.125045Z",
     "start_time": "2024-09-06T11:30:32.106042Z"
    }
   },
   "cell_type": "code",
   "source": "dataset[\"messages\"][0][1][\"content\"]",
   "id": "cf2a8d10ba1b8165",
   "outputs": [
    {
     "data": {
      "text/plain": [
       "'The question is relatively broad and one should take into account that the brain not only consists of neurons, but also glial cells (supportive cells) and pre-mitotic neuronal stem cells. Furthermore, as critical fellow-scientists have indicated, developmental stage is very important, as the developing embryonic brain is very different from the adult brain.\\nHowever, after sifting through various publications, the answer to the question is actually remarkably simple: Yes, brain cells migrate.\\nIn  the adult brain glial cells migrate in the brain (Klämbt, 2009). Glial cells are involved in a myriad of functions, but a notable example of migrating glial cells are the oligodendrocytes that migrate relative long distances to find their target axons onto which they wrap themselves to form the insulating myelin sheath (Tsai and Miller, 2002).\\nNeuronal stem cells migrate over long distances in response to injury (Imitola et al., 2004) and they migrate from specific stem-cell locations (e.g., hippocampus and subventricular zone) to other regions (Clarke, 2003).\\nPost-mitotic, but non-differentiated neurons have been shown to migrate in the adult brain in fish (Scott et al., 2012), and in mammals and non-human primates as well (Sawada et al., 2011).\\nNot surprisingly, glial cells, stem cells and neurons also migrate during embryonic development. Most notably, post-mitotic neurons destined to fulfill peripheral functions have to migrate over relatively long distances from the neural crest to their target locations (Neuroscience, 2nd ed, Neuronal Migration).'"
      ]
     },
     "execution_count": 9,
     "metadata": {},
     "output_type": "execute_result"
    }
   ],
   "execution_count": 9
  },
  {
   "metadata": {
    "ExecuteTime": {
     "end_time": "2024-09-06T11:30:34.272666Z",
     "start_time": "2024-09-06T11:30:32.154302Z"
    }
   },
   "cell_type": "code",
   "source": "train_dataloader = prepare_dataset(dataset=dataset, model=model, tokenizer=tokenizer)",
   "id": "ff5e7d524829ac0c",
   "outputs": [
    {
     "data": {
      "text/plain": [
       "Tokenizing and reformatting instruction data:   0%|          | 0/988 [00:00<?, ? examples/s]"
      ],
      "application/vnd.jupyter.widget-view+json": {
       "version_major": 2,
       "version_minor": 0,
       "model_id": "4079e2ceb81045d4aee18c183cf0e5e6"
      }
     },
     "metadata": {},
     "output_type": "display_data"
    }
   ],
   "execution_count": 10
  },
  {
   "metadata": {
    "ExecuteTime": {
     "end_time": "2024-09-06T11:30:34.279103Z",
     "start_time": "2024-09-06T11:30:34.277074Z"
    }
   },
   "cell_type": "code",
   "source": "print(len(train_dataloader))",
   "id": "f03235e767bb8fdb",
   "outputs": [
    {
     "name": "stdout",
     "output_type": "stream",
     "text": [
      "988\n"
     ]
    }
   ],
   "execution_count": 11
  },
  {
   "metadata": {
    "ExecuteTime": {
     "end_time": "2024-09-06T11:30:34.932524Z",
     "start_time": "2024-09-06T11:30:34.323364Z"
    }
   },
   "cell_type": "code",
   "source": "sample_0 = list(train_dataloader)[0]",
   "id": "149c17130ff0d34d",
   "outputs": [],
   "execution_count": 12
  },
  {
   "metadata": {
    "ExecuteTime": {
     "end_time": "2024-09-06T11:30:41.503446Z",
     "start_time": "2024-09-06T11:30:34.952837Z"
    }
   },
   "cell_type": "code",
   "source": "gradients_sample_0 = get_gradients(model, sample_0)",
   "id": "253cc40f7e165387",
   "outputs": [],
   "execution_count": 13
  },
  {
   "metadata": {
    "ExecuteTime": {
     "end_time": "2024-09-06T11:30:41.523480Z",
     "start_time": "2024-09-06T11:30:41.520852Z"
    }
   },
   "cell_type": "code",
   "source": [
    "for key, value in gradients_sample_0.items():\n",
    "    print(f\"{key}: {value.shape}\")"
   ],
   "id": "4134d8fe771f09fc",
   "outputs": [
    {
     "name": "stdout",
     "output_type": "stream",
     "text": [
      "model.embed_tokens.weight: torch.Size([50304, 2048])\n",
      "model.layers.0.self_attn.q_proj.weight: torch.Size([2048, 2048])\n",
      "model.layers.0.self_attn.k_proj.weight: torch.Size([2048, 2048])\n",
      "model.layers.0.self_attn.v_proj.weight: torch.Size([2048, 2048])\n",
      "model.layers.0.self_attn.o_proj.weight: torch.Size([2048, 2048])\n",
      "model.layers.0.mlp.gate_proj.weight: torch.Size([8192, 2048])\n",
      "model.layers.0.mlp.up_proj.weight: torch.Size([8192, 2048])\n",
      "model.layers.0.mlp.down_proj.weight: torch.Size([2048, 8192])\n",
      "model.layers.1.self_attn.q_proj.weight: torch.Size([2048, 2048])\n",
      "model.layers.1.self_attn.k_proj.weight: torch.Size([2048, 2048])\n",
      "model.layers.1.self_attn.v_proj.weight: torch.Size([2048, 2048])\n",
      "model.layers.1.self_attn.o_proj.weight: torch.Size([2048, 2048])\n",
      "model.layers.1.mlp.gate_proj.weight: torch.Size([8192, 2048])\n",
      "model.layers.1.mlp.up_proj.weight: torch.Size([8192, 2048])\n",
      "model.layers.1.mlp.down_proj.weight: torch.Size([2048, 8192])\n",
      "model.layers.2.self_attn.q_proj.weight: torch.Size([2048, 2048])\n",
      "model.layers.2.self_attn.k_proj.weight: torch.Size([2048, 2048])\n",
      "model.layers.2.self_attn.v_proj.weight: torch.Size([2048, 2048])\n",
      "model.layers.2.self_attn.o_proj.weight: torch.Size([2048, 2048])\n",
      "model.layers.2.mlp.gate_proj.weight: torch.Size([8192, 2048])\n",
      "model.layers.2.mlp.up_proj.weight: torch.Size([8192, 2048])\n",
      "model.layers.2.mlp.down_proj.weight: torch.Size([2048, 8192])\n",
      "model.layers.3.self_attn.q_proj.weight: torch.Size([2048, 2048])\n",
      "model.layers.3.self_attn.k_proj.weight: torch.Size([2048, 2048])\n",
      "model.layers.3.self_attn.v_proj.weight: torch.Size([2048, 2048])\n",
      "model.layers.3.self_attn.o_proj.weight: torch.Size([2048, 2048])\n",
      "model.layers.3.mlp.gate_proj.weight: torch.Size([8192, 2048])\n",
      "model.layers.3.mlp.up_proj.weight: torch.Size([8192, 2048])\n",
      "model.layers.3.mlp.down_proj.weight: torch.Size([2048, 8192])\n",
      "model.layers.4.self_attn.q_proj.weight: torch.Size([2048, 2048])\n",
      "model.layers.4.self_attn.k_proj.weight: torch.Size([2048, 2048])\n",
      "model.layers.4.self_attn.v_proj.weight: torch.Size([2048, 2048])\n",
      "model.layers.4.self_attn.o_proj.weight: torch.Size([2048, 2048])\n",
      "model.layers.4.mlp.gate_proj.weight: torch.Size([8192, 2048])\n",
      "model.layers.4.mlp.up_proj.weight: torch.Size([8192, 2048])\n",
      "model.layers.4.mlp.down_proj.weight: torch.Size([2048, 8192])\n",
      "model.layers.5.self_attn.q_proj.weight: torch.Size([2048, 2048])\n",
      "model.layers.5.self_attn.k_proj.weight: torch.Size([2048, 2048])\n",
      "model.layers.5.self_attn.v_proj.weight: torch.Size([2048, 2048])\n",
      "model.layers.5.self_attn.o_proj.weight: torch.Size([2048, 2048])\n",
      "model.layers.5.mlp.gate_proj.weight: torch.Size([8192, 2048])\n",
      "model.layers.5.mlp.up_proj.weight: torch.Size([8192, 2048])\n",
      "model.layers.5.mlp.down_proj.weight: torch.Size([2048, 8192])\n",
      "model.layers.6.self_attn.q_proj.weight: torch.Size([2048, 2048])\n",
      "model.layers.6.self_attn.k_proj.weight: torch.Size([2048, 2048])\n",
      "model.layers.6.self_attn.v_proj.weight: torch.Size([2048, 2048])\n",
      "model.layers.6.self_attn.o_proj.weight: torch.Size([2048, 2048])\n",
      "model.layers.6.mlp.gate_proj.weight: torch.Size([8192, 2048])\n",
      "model.layers.6.mlp.up_proj.weight: torch.Size([8192, 2048])\n",
      "model.layers.6.mlp.down_proj.weight: torch.Size([2048, 8192])\n",
      "model.layers.7.self_attn.q_proj.weight: torch.Size([2048, 2048])\n",
      "model.layers.7.self_attn.k_proj.weight: torch.Size([2048, 2048])\n",
      "model.layers.7.self_attn.v_proj.weight: torch.Size([2048, 2048])\n",
      "model.layers.7.self_attn.o_proj.weight: torch.Size([2048, 2048])\n",
      "model.layers.7.mlp.gate_proj.weight: torch.Size([8192, 2048])\n",
      "model.layers.7.mlp.up_proj.weight: torch.Size([8192, 2048])\n",
      "model.layers.7.mlp.down_proj.weight: torch.Size([2048, 8192])\n",
      "model.layers.8.self_attn.q_proj.weight: torch.Size([2048, 2048])\n",
      "model.layers.8.self_attn.k_proj.weight: torch.Size([2048, 2048])\n",
      "model.layers.8.self_attn.v_proj.weight: torch.Size([2048, 2048])\n",
      "model.layers.8.self_attn.o_proj.weight: torch.Size([2048, 2048])\n",
      "model.layers.8.mlp.gate_proj.weight: torch.Size([8192, 2048])\n",
      "model.layers.8.mlp.up_proj.weight: torch.Size([8192, 2048])\n",
      "model.layers.8.mlp.down_proj.weight: torch.Size([2048, 8192])\n",
      "model.layers.9.self_attn.q_proj.weight: torch.Size([2048, 2048])\n",
      "model.layers.9.self_attn.k_proj.weight: torch.Size([2048, 2048])\n",
      "model.layers.9.self_attn.v_proj.weight: torch.Size([2048, 2048])\n",
      "model.layers.9.self_attn.o_proj.weight: torch.Size([2048, 2048])\n",
      "model.layers.9.mlp.gate_proj.weight: torch.Size([8192, 2048])\n",
      "model.layers.9.mlp.up_proj.weight: torch.Size([8192, 2048])\n",
      "model.layers.9.mlp.down_proj.weight: torch.Size([2048, 8192])\n",
      "model.layers.10.self_attn.q_proj.weight: torch.Size([2048, 2048])\n",
      "model.layers.10.self_attn.k_proj.weight: torch.Size([2048, 2048])\n",
      "model.layers.10.self_attn.v_proj.weight: torch.Size([2048, 2048])\n",
      "model.layers.10.self_attn.o_proj.weight: torch.Size([2048, 2048])\n",
      "model.layers.10.mlp.gate_proj.weight: torch.Size([8192, 2048])\n",
      "model.layers.10.mlp.up_proj.weight: torch.Size([8192, 2048])\n",
      "model.layers.10.mlp.down_proj.weight: torch.Size([2048, 8192])\n",
      "model.layers.11.self_attn.q_proj.weight: torch.Size([2048, 2048])\n",
      "model.layers.11.self_attn.k_proj.weight: torch.Size([2048, 2048])\n",
      "model.layers.11.self_attn.v_proj.weight: torch.Size([2048, 2048])\n",
      "model.layers.11.self_attn.o_proj.weight: torch.Size([2048, 2048])\n",
      "model.layers.11.mlp.gate_proj.weight: torch.Size([8192, 2048])\n",
      "model.layers.11.mlp.up_proj.weight: torch.Size([8192, 2048])\n",
      "model.layers.11.mlp.down_proj.weight: torch.Size([2048, 8192])\n",
      "model.layers.12.self_attn.q_proj.weight: torch.Size([2048, 2048])\n",
      "model.layers.12.self_attn.k_proj.weight: torch.Size([2048, 2048])\n",
      "model.layers.12.self_attn.v_proj.weight: torch.Size([2048, 2048])\n",
      "model.layers.12.self_attn.o_proj.weight: torch.Size([2048, 2048])\n",
      "model.layers.12.mlp.gate_proj.weight: torch.Size([8192, 2048])\n",
      "model.layers.12.mlp.up_proj.weight: torch.Size([8192, 2048])\n",
      "model.layers.12.mlp.down_proj.weight: torch.Size([2048, 8192])\n",
      "model.layers.13.self_attn.q_proj.weight: torch.Size([2048, 2048])\n",
      "model.layers.13.self_attn.k_proj.weight: torch.Size([2048, 2048])\n",
      "model.layers.13.self_attn.v_proj.weight: torch.Size([2048, 2048])\n",
      "model.layers.13.self_attn.o_proj.weight: torch.Size([2048, 2048])\n",
      "model.layers.13.mlp.gate_proj.weight: torch.Size([8192, 2048])\n",
      "model.layers.13.mlp.up_proj.weight: torch.Size([8192, 2048])\n",
      "model.layers.13.mlp.down_proj.weight: torch.Size([2048, 8192])\n",
      "model.layers.14.self_attn.q_proj.weight: torch.Size([2048, 2048])\n",
      "model.layers.14.self_attn.k_proj.weight: torch.Size([2048, 2048])\n",
      "model.layers.14.self_attn.v_proj.weight: torch.Size([2048, 2048])\n",
      "model.layers.14.self_attn.o_proj.weight: torch.Size([2048, 2048])\n",
      "model.layers.14.mlp.gate_proj.weight: torch.Size([8192, 2048])\n",
      "model.layers.14.mlp.up_proj.weight: torch.Size([8192, 2048])\n",
      "model.layers.14.mlp.down_proj.weight: torch.Size([2048, 8192])\n",
      "model.layers.15.self_attn.q_proj.weight: torch.Size([2048, 2048])\n",
      "model.layers.15.self_attn.k_proj.weight: torch.Size([2048, 2048])\n",
      "model.layers.15.self_attn.v_proj.weight: torch.Size([2048, 2048])\n",
      "model.layers.15.self_attn.o_proj.weight: torch.Size([2048, 2048])\n",
      "model.layers.15.mlp.gate_proj.weight: torch.Size([8192, 2048])\n",
      "model.layers.15.mlp.up_proj.weight: torch.Size([8192, 2048])\n",
      "model.layers.15.mlp.down_proj.weight: torch.Size([2048, 8192])\n"
     ]
    }
   ],
   "execution_count": 14
  },
  {
   "metadata": {
    "ExecuteTime": {
     "end_time": "2024-09-06T11:30:41.583583Z",
     "start_time": "2024-09-06T11:30:41.579679Z"
    }
   },
   "cell_type": "code",
   "source": [
    "decoded_input = tokenizer.decode(token_ids=sample_0[\"input_ids\"][0].tolist())\n",
    "decoded_input"
   ],
   "id": "7b475b7bf6d79130",
   "outputs": [
    {
     "data": {
      "text/plain": [
       "'<|user|>\\nCan brain cells move? By movement I mean long distance migration (preferably within the brain only).\\n<|assistant|>\\nThe question is relatively broad and one should take into account that the brain not only consists of neurons, but also glial cells (supportive cells) and pre-mitotic neuronal stem cells. Furthermore, as critical fellow-scientists have indicated, developmental stage is very important, as the developing embryonic brain is very different from the adult brain.\\nHowever, after sifting through various publications, the answer to the question is actually remarkably simple: Yes, brain cells migrate.\\nIn  the adult brain glial cells migrate in the brain (Klämbt, 2009). Glial cells are involved in a myriad of functions, but a notable example of migrating glial cells are the oligodendrocytes that migrate relative long distances to find their target axons onto which they wrap themselves to form the insulating myelin sheath (Tsai and Miller, 2002).\\nNeuronal stem cells migrate over long distances in response to injury (Imitola et al., 2004) and they migrate from specific stem-cell locations (e.g., hippocampus and subventricular zone) to other regions (Clarke, 2003).\\nPost-mitotic, but non-differentiated neurons have been shown to migrate in the adult brain in fish (Scott et al., 2012), and in mammals and non-human primates as well (Sawada et al., 2011).\\nNot surprisingly, glial cells, stem cells and neurons also migrate during embryonic development. Most notably, post-mitotic neurons destined to fulfill peripheral functions have to migrate over relatively long distances from the neural crest to their target locations (Neuroscience, 2nd ed, Neuronal Migration).<|endoftext|>'"
      ]
     },
     "execution_count": 15,
     "metadata": {},
     "output_type": "execute_result"
    }
   ],
   "execution_count": 15
  },
  {
   "metadata": {
    "ExecuteTime": {
     "end_time": "2024-09-06T11:30:41.628865Z",
     "start_time": "2024-09-06T11:30:41.623817Z"
    }
   },
   "cell_type": "code",
   "source": [
    "decoded_output = tokenizer.decode(token_ids=[(tokenizer.pad_token_id if token == -100 else token) for token in sample_0[\"labels\"][0].tolist()])\n",
    "decoded_output"
   ],
   "id": "f1f72c44c2769e01",
   "outputs": [
    {
     "data": {
      "text/plain": [
       "'<|padding|><|padding|><|padding|><|padding|><|padding|><|padding|><|padding|><|padding|><|padding|><|padding|><|padding|><|padding|><|padding|><|padding|><|padding|><|padding|><|padding|><|padding|><|padding|><|padding|><|padding|><|padding|><|padding|><|padding|><|padding|><|padding|><|padding|><|padding|><|padding|><|padding|><|padding|><|padding|>The question is relatively broad and one should take into account that the brain not only consists of neurons, but also glial cells (supportive cells) and pre-mitotic neuronal stem cells. Furthermore, as critical fellow-scientists have indicated, developmental stage is very important, as the developing embryonic brain is very different from the adult brain.\\nHowever, after sifting through various publications, the answer to the question is actually remarkably simple: Yes, brain cells migrate.\\nIn  the adult brain glial cells migrate in the brain (Klämbt, 2009). Glial cells are involved in a myriad of functions, but a notable example of migrating glial cells are the oligodendrocytes that migrate relative long distances to find their target axons onto which they wrap themselves to form the insulating myelin sheath (Tsai and Miller, 2002).\\nNeuronal stem cells migrate over long distances in response to injury (Imitola et al., 2004) and they migrate from specific stem-cell locations (e.g., hippocampus and subventricular zone) to other regions (Clarke, 2003).\\nPost-mitotic, but non-differentiated neurons have been shown to migrate in the adult brain in fish (Scott et al., 2012), and in mammals and non-human primates as well (Sawada et al., 2011).\\nNot surprisingly, glial cells, stem cells and neurons also migrate during embryonic development. Most notably, post-mitotic neurons destined to fulfill peripheral functions have to migrate over relatively long distances from the neural crest to their target locations (Neuroscience, 2nd ed, Neuronal Migration).<|endoftext|>'"
      ]
     },
     "execution_count": 16,
     "metadata": {},
     "output_type": "execute_result"
    }
   ],
   "execution_count": 16
  }
 ],
 "metadata": {
  "kernelspec": {
   "display_name": "Python 3",
   "language": "python",
   "name": "python3"
  },
  "language_info": {
   "codemirror_mode": {
    "name": "ipython",
    "version": 2
   },
   "file_extension": ".py",
   "mimetype": "text/x-python",
   "name": "python",
   "nbconvert_exporter": "python",
   "pygments_lexer": "ipython2",
   "version": "2.7.6"
  }
 },
 "nbformat": 4,
 "nbformat_minor": 5
}
