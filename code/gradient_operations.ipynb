{
 "cells": [
  {
   "cell_type": "code",
   "id": "initial_id",
   "metadata": {
    "collapsed": true,
    "ExecuteTime": {
     "end_time": "2024-09-06T08:36:48.141844Z",
     "start_time": "2024-09-06T08:36:42.766001Z"
    }
   },
   "source": [
    "from transformers import AutoModelForCausalLM, AutoTokenizer\n",
    "from datasets import load_from_disk\n",
    "from config import data_path\n",
    "import torch\n",
    "import numpy as np\n",
    "import random\n",
    "\n",
    "from utilities.dataset import prepare_dataset"
   ],
   "outputs": [
    {
     "name": "stdout",
     "output_type": "stream",
     "text": [
      "[2024-09-06 10:36:46,437] [INFO] [real_accelerator.py:203:get_accelerator] Setting ds_accelerator to cuda (auto detect)\n"
     ]
    },
    {
     "name": "stderr",
     "output_type": "stream",
     "text": [
      "/home/lukashinterleitner/anaconda3/envs/master-thesis/compiler_compat/ld: cannot find -laio: No such file or directory\n",
      "collect2: error: ld returned 1 exit status\n"
     ]
    },
    {
     "name": "stdout",
     "output_type": "stream",
     "text": [
      "\u001B[93m [WARNING] \u001B[0m async_io requires the dev libaio .so object and headers but these were not found.\n",
      "\u001B[93m [WARNING] \u001B[0m async_io: please install the libaio-dev package with apt\n",
      "\u001B[93m [WARNING] \u001B[0m If libaio is already installed (perhaps from source), try setting the CFLAGS and LDFLAGS environment variables to where it can be found.\n",
      "\u001B[93m [WARNING] \u001B[0m Please specify the CUTLASS repo directory as environment variable $CUTLASS_PATH\n",
      "\u001B[93m [WARNING] \u001B[0m NVIDIA Inference is only supported on Ampere and newer architectures\n",
      "\u001B[93m [WARNING] \u001B[0m sparse_attn requires a torch version >= 1.5 and < 2.0 but detected 2.2\n",
      "\u001B[93m [WARNING] \u001B[0m using untested triton version (2.2.0), only 1.0.0 is known to be compatible\n"
     ]
    }
   ],
   "execution_count": 1
  },
  {
   "metadata": {
    "ExecuteTime": {
     "end_time": "2024-09-06T08:40:55.154777Z",
     "start_time": "2024-09-06T08:40:55.151751Z"
    }
   },
   "cell_type": "code",
   "source": [
    "# Set seeds for reproducibility\n",
    "torch.manual_seed(42)\n",
    "np.random.seed(42)\n",
    "random.seed(42)\n",
    "torch.backends.cudnn.deterministic = True\n",
    "torch.backends.cudnn.benchmark = False"
   ],
   "id": "af748f64e20a4fa8",
   "outputs": [],
   "execution_count": 2
  },
  {
   "metadata": {
    "ExecuteTime": {
     "end_time": "2024-09-06T08:40:57.143227Z",
     "start_time": "2024-09-06T08:40:55.963929Z"
    }
   },
   "cell_type": "code",
   "source": [
    "model = AutoModelForCausalLM.from_pretrained(\"allenai/OLMo-1B-hf\")\n",
    "tokenizer = AutoTokenizer.from_pretrained(\"allenai/OLMo-1B-hf\")\n",
    "\n",
    "print(tokenizer.eos_token_id)\n",
    "print(tokenizer.pad_token_id)"
   ],
   "id": "addc6245190d0ee2",
   "outputs": [
    {
     "name": "stdout",
     "output_type": "stream",
     "text": [
      "50279\n",
      "1\n"
     ]
    }
   ],
   "execution_count": 3
  },
  {
   "metadata": {
    "ExecuteTime": {
     "end_time": "2024-09-06T08:40:57.218142Z",
     "start_time": "2024-09-06T08:40:57.213435Z"
    }
   },
   "cell_type": "code",
   "source": [
    "device = torch.device('cuda' if torch.cuda.is_available() else 'cpu')\n",
    "device"
   ],
   "id": "c64e2b22c156b3f",
   "outputs": [
    {
     "data": {
      "text/plain": [
       "device(type='cuda')"
      ]
     },
     "execution_count": 4,
     "metadata": {},
     "output_type": "execute_result"
    }
   ],
   "execution_count": 4
  },
  {
   "metadata": {
    "ExecuteTime": {
     "end_time": "2024-09-06T08:40:57.381133Z",
     "start_time": "2024-09-06T08:40:57.377416Z"
    }
   },
   "cell_type": "code",
   "source": "model.eval()",
   "id": "1b5ea9b4364e38c2",
   "outputs": [
    {
     "data": {
      "text/plain": [
       "OlmoForCausalLM(\n",
       "  (model): OlmoModel(\n",
       "    (embed_tokens): Embedding(50304, 2048, padding_idx=1)\n",
       "    (layers): ModuleList(\n",
       "      (0-15): 16 x OlmoDecoderLayer(\n",
       "        (self_attn): OlmoSdpaAttention(\n",
       "          (q_proj): Linear(in_features=2048, out_features=2048, bias=False)\n",
       "          (k_proj): Linear(in_features=2048, out_features=2048, bias=False)\n",
       "          (v_proj): Linear(in_features=2048, out_features=2048, bias=False)\n",
       "          (o_proj): Linear(in_features=2048, out_features=2048, bias=False)\n",
       "          (rotary_emb): OlmoRotaryEmbedding()\n",
       "        )\n",
       "        (mlp): OlmoMLP(\n",
       "          (gate_proj): Linear(in_features=2048, out_features=8192, bias=False)\n",
       "          (up_proj): Linear(in_features=2048, out_features=8192, bias=False)\n",
       "          (down_proj): Linear(in_features=8192, out_features=2048, bias=False)\n",
       "          (act_fn): SiLU()\n",
       "        )\n",
       "        (input_layernorm): OlmoLayerNorm()\n",
       "        (post_attention_layernorm): OlmoLayerNorm()\n",
       "      )\n",
       "    )\n",
       "    (norm): OlmoLayerNorm()\n",
       "  )\n",
       "  (lm_head): Linear(in_features=2048, out_features=50304, bias=False)\n",
       ")"
      ]
     },
     "execution_count": 5,
     "metadata": {},
     "output_type": "execute_result"
    }
   ],
   "execution_count": 5
  },
  {
   "metadata": {
    "ExecuteTime": {
     "end_time": "2024-09-06T08:40:57.952154Z",
     "start_time": "2024-09-06T08:40:57.946358Z"
    }
   },
   "cell_type": "code",
   "source": [
    "dataset = load_from_disk(data_path)\n",
    "dataset"
   ],
   "id": "b94aff18b2d7ddec",
   "outputs": [
    {
     "data": {
      "text/plain": [
       "Dataset({\n",
       "    features: ['dataset', 'id', 'messages'],\n",
       "    num_rows: 988\n",
       "})"
      ]
     },
     "execution_count": 6,
     "metadata": {},
     "output_type": "execute_result"
    }
   ],
   "execution_count": 6
  },
  {
   "metadata": {
    "ExecuteTime": {
     "end_time": "2024-09-06T08:40:58.545151Z",
     "start_time": "2024-09-06T08:40:58.529785Z"
    }
   },
   "cell_type": "code",
   "source": "dataset[\"messages\"][0][0][\"content\"]",
   "id": "386490549705eab1",
   "outputs": [
    {
     "data": {
      "text/plain": [
       "'Can brain cells move? By movement I mean long distance migration (preferably within the brain only).'"
      ]
     },
     "execution_count": 7,
     "metadata": {},
     "output_type": "execute_result"
    }
   ],
   "execution_count": 7
  },
  {
   "metadata": {
    "ExecuteTime": {
     "end_time": "2024-09-06T08:40:59.047474Z",
     "start_time": "2024-09-06T08:40:59.032275Z"
    }
   },
   "cell_type": "code",
   "source": "dataset[\"messages\"][0][1][\"content\"]",
   "id": "c641fcd39cc1439b",
   "outputs": [
    {
     "data": {
      "text/plain": [
       "'The question is relatively broad and one should take into account that the brain not only consists of neurons, but also glial cells (supportive cells) and pre-mitotic neuronal stem cells. Furthermore, as critical fellow-scientists have indicated, developmental stage is very important, as the developing embryonic brain is very different from the adult brain.\\nHowever, after sifting through various publications, the answer to the question is actually remarkably simple: Yes, brain cells migrate.\\nIn  the adult brain glial cells migrate in the brain (Klämbt, 2009). Glial cells are involved in a myriad of functions, but a notable example of migrating glial cells are the oligodendrocytes that migrate relative long distances to find their target axons onto which they wrap themselves to form the insulating myelin sheath (Tsai and Miller, 2002).\\nNeuronal stem cells migrate over long distances in response to injury (Imitola et al., 2004) and they migrate from specific stem-cell locations (e.g., hippocampus and subventricular zone) to other regions (Clarke, 2003).\\nPost-mitotic, but non-differentiated neurons have been shown to migrate in the adult brain in fish (Scott et al., 2012), and in mammals and non-human primates as well (Sawada et al., 2011).\\nNot surprisingly, glial cells, stem cells and neurons also migrate during embryonic development. Most notably, post-mitotic neurons destined to fulfill peripheral functions have to migrate over relatively long distances from the neural crest to their target locations (Neuroscience, 2nd ed, Neuronal Migration).'"
      ]
     },
     "execution_count": 8,
     "metadata": {},
     "output_type": "execute_result"
    }
   ],
   "execution_count": 8
  },
  {
   "metadata": {
    "ExecuteTime": {
     "end_time": "2024-09-06T08:41:01.706710Z",
     "start_time": "2024-09-06T08:40:59.731938Z"
    }
   },
   "cell_type": "code",
   "source": "train_dataloader = prepare_dataset(dataset=dataset, model=model, tokenizer=tokenizer)",
   "id": "7f41a2fe2aa324e8",
   "outputs": [
    {
     "data": {
      "text/plain": [
       "Tokenizing and reformatting instruction data:   0%|          | 0/988 [00:00<?, ? examples/s]"
      ],
      "application/vnd.jupyter.widget-view+json": {
       "version_major": 2,
       "version_minor": 0,
       "model_id": "48fa710a09c844808310d8fe2b252421"
      }
     },
     "metadata": {},
     "output_type": "display_data"
    },
    {
     "data": {
      "text/plain": [
       "Filter:   0%|          | 0/988 [00:00<?, ? examples/s]"
      ],
      "application/vnd.jupyter.widget-view+json": {
       "version_major": 2,
       "version_minor": 0,
       "model_id": "a0b3f29f7fe24913aa0996e3eb903475"
      }
     },
     "metadata": {},
     "output_type": "display_data"
    }
   ],
   "execution_count": 9
  },
  {
   "metadata": {
    "ExecuteTime": {
     "end_time": "2024-09-06T08:41:02.644476Z",
     "start_time": "2024-09-06T08:41:02.642129Z"
    }
   },
   "cell_type": "code",
   "source": "print(len(train_dataloader))",
   "id": "183611490872b818",
   "outputs": [
    {
     "name": "stdout",
     "output_type": "stream",
     "text": [
      "988\n"
     ]
    }
   ],
   "execution_count": 10
  },
  {
   "metadata": {
    "ExecuteTime": {
     "end_time": "2024-09-06T08:41:16.431462Z",
     "start_time": "2024-09-06T08:41:15.788526Z"
    }
   },
   "cell_type": "code",
   "source": "list(train_dataloader)[0]",
   "id": "8ae15c664d0b4967",
   "outputs": [
    {
     "data": {
      "text/plain": [
       "{'input_ids': tensor([[   29,    93,  4537, 49651,   187,  5804,  3998,  1341,  2118,    32,\n",
       "          2896,  4866,   309,  1599,  1048,  4181, 10346,   313, 11499, 31821,\n",
       "          1561,   253,  3998,   760,   481,   187,    29,    93,   515,  5567,\n",
       "         49651,   187,   510,  1953,   310,  4942,  3862,   285,   581,   943,\n",
       "          1379,   715,  2395,   326,   253,  3998,   417,   760,  8414,   273,\n",
       "          8512,    13,   533,   671, 42782,  1341,   313, 13821,   422,  1341,\n",
       "            10,   285,   638,    14,  2225,  3875, 16069,  8424,  1341,    15,\n",
       "          5488,    13,   347,  4619,  7715,    14, 30202,  1346,   452,  4860,\n",
       "            13, 16743,  3924,   310,  1077,  1774,    13,   347,   253,  6684,\n",
       "         24022,  3998,   310,  1077,  1027,   432,   253,  6782,  3998,    15,\n",
       "           187,  6436,    13,   846,   256, 12545,   949,  2710, 16516,    13,\n",
       "           253,  3662,   281,   253,  1953,   310,  2686, 24678,  2969,    27,\n",
       "          6279,    13,  3998,  1341, 31690,    15,   187,   688, 50276,   783,\n",
       "          6782,  3998, 42782,  1341, 31690,   275,   253,  3998,   313,    44,\n",
       "         42824,  1814,    85,    13,  4748,   481,  4051,   451,  1341,   403,\n",
       "          3206,   275,   247, 35988,   273,  3470,    13,   533,   247, 16613,\n",
       "          1650,   273, 46447, 42782,  1341,   403,   253, 13081, 45813, 20158,\n",
       "           326, 31690,  4103,  1048, 13849,   281,  1089,   616,  2303, 41382,\n",
       "          4830,   534,   597, 16384,  3746,   281,   830,   253, 22831, 16203,\n",
       "           249, 30334,   313, 27415,  2284,   285, 11418,    13,  6752,   481,\n",
       "           187,  6560,   321,  2814,  8424,  1341, 31690,   689,  1048, 13849,\n",
       "           275,  2380,   281,  4975,   313,    42,  2225,  6836,  1162,   355,\n",
       "           904,  6157,    10,   285,   597, 31690,   432,  2173,  8424,    14,\n",
       "          3992,  8593,   313,    70,    15,    72,   904, 26382,   285,   749,\n",
       "          2254, 13267,  8232,    10,   281,   643,  4811,   313,  2019,   274,\n",
       "           413,    13,  6469,   481,   187,  8983,    14,  2225,  3875,    13,\n",
       "           533,  1327,    14, 19623,  4215,  8512,   452,   644,  2011,   281,\n",
       "         31690,   275,   253,  6782,  3998,   275,  6773,   313, 22384,  1162,\n",
       "           355,   904,  4050,   582,   285,   275, 25045,   285,  1327,    14,\n",
       "         13961, 47063,   347,   973,   313,    52,  1403,  2960,  1162,   355,\n",
       "           904,  4332,   481,   187,  3650, 19143,    13, 42782,  1341,    13,\n",
       "          8424,  1341,   285,  8512,   671, 31690,  1309, 24022,  2440,    15,\n",
       "          5595, 19836,    13,  1501,    14,  2225,  3875,  8512, 33781,   281,\n",
       "         19145, 10844,  3470,   452,   281, 31690,   689,  4942,  1048, 13849,\n",
       "           432,   253, 11454, 30402,   281,   616,  2303,  8593,   313,  6560,\n",
       "          1822, 21559,    13,   374,  2109,  1407,    13,  3532,   321,  2814,\n",
       "         49063,   481, 50279]]), 'labels': tensor([[ -100,  -100,  -100,  -100,  -100,  -100,  -100,  -100,  -100,  -100,\n",
       "          -100,  -100,  -100,  -100,  -100,  -100,  -100,  -100,  -100,  -100,\n",
       "          -100,  -100,  -100,  -100,  -100,  -100,  -100,  -100,  -100,  -100,\n",
       "          -100,  -100,   510,  1953,   310,  4942,  3862,   285,   581,   943,\n",
       "          1379,   715,  2395,   326,   253,  3998,   417,   760,  8414,   273,\n",
       "          8512,    13,   533,   671, 42782,  1341,   313, 13821,   422,  1341,\n",
       "            10,   285,   638,    14,  2225,  3875, 16069,  8424,  1341,    15,\n",
       "          5488,    13,   347,  4619,  7715,    14, 30202,  1346,   452,  4860,\n",
       "            13, 16743,  3924,   310,  1077,  1774,    13,   347,   253,  6684,\n",
       "         24022,  3998,   310,  1077,  1027,   432,   253,  6782,  3998,    15,\n",
       "           187,  6436,    13,   846,   256, 12545,   949,  2710, 16516,    13,\n",
       "           253,  3662,   281,   253,  1953,   310,  2686, 24678,  2969,    27,\n",
       "          6279,    13,  3998,  1341, 31690,    15,   187,   688, 50276,   783,\n",
       "          6782,  3998, 42782,  1341, 31690,   275,   253,  3998,   313,    44,\n",
       "         42824,  1814,    85,    13,  4748,   481,  4051,   451,  1341,   403,\n",
       "          3206,   275,   247, 35988,   273,  3470,    13,   533,   247, 16613,\n",
       "          1650,   273, 46447, 42782,  1341,   403,   253, 13081, 45813, 20158,\n",
       "           326, 31690,  4103,  1048, 13849,   281,  1089,   616,  2303, 41382,\n",
       "          4830,   534,   597, 16384,  3746,   281,   830,   253, 22831, 16203,\n",
       "           249, 30334,   313, 27415,  2284,   285, 11418,    13,  6752,   481,\n",
       "           187,  6560,   321,  2814,  8424,  1341, 31690,   689,  1048, 13849,\n",
       "           275,  2380,   281,  4975,   313,    42,  2225,  6836,  1162,   355,\n",
       "           904,  6157,    10,   285,   597, 31690,   432,  2173,  8424,    14,\n",
       "          3992,  8593,   313,    70,    15,    72,   904, 26382,   285,   749,\n",
       "          2254, 13267,  8232,    10,   281,   643,  4811,   313,  2019,   274,\n",
       "           413,    13,  6469,   481,   187,  8983,    14,  2225,  3875,    13,\n",
       "           533,  1327,    14, 19623,  4215,  8512,   452,   644,  2011,   281,\n",
       "         31690,   275,   253,  6782,  3998,   275,  6773,   313, 22384,  1162,\n",
       "           355,   904,  4050,   582,   285,   275, 25045,   285,  1327,    14,\n",
       "         13961, 47063,   347,   973,   313,    52,  1403,  2960,  1162,   355,\n",
       "           904,  4332,   481,   187,  3650, 19143,    13, 42782,  1341,    13,\n",
       "          8424,  1341,   285,  8512,   671, 31690,  1309, 24022,  2440,    15,\n",
       "          5595, 19836,    13,  1501,    14,  2225,  3875,  8512, 33781,   281,\n",
       "         19145, 10844,  3470,   452,   281, 31690,   689,  4942,  1048, 13849,\n",
       "           432,   253, 11454, 30402,   281,   616,  2303,  8593,   313,  6560,\n",
       "          1822, 21559,    13,   374,  2109,  1407,    13,  3532,   321,  2814,\n",
       "         49063,   481, 50279]]), 'attention_mask': tensor([[1, 1, 1, 1, 1, 1, 1, 1, 1, 1, 1, 1, 1, 1, 1, 1, 1, 1, 1, 1, 1, 1, 1, 1,\n",
       "         1, 1, 1, 1, 1, 1, 1, 1, 1, 1, 1, 1, 1, 1, 1, 1, 1, 1, 1, 1, 1, 1, 1, 1,\n",
       "         1, 1, 1, 1, 1, 1, 1, 1, 1, 1, 1, 1, 1, 1, 1, 1, 1, 1, 1, 1, 1, 1, 1, 1,\n",
       "         1, 1, 1, 1, 1, 1, 1, 1, 1, 1, 1, 1, 1, 1, 1, 1, 1, 1, 1, 1, 1, 1, 1, 1,\n",
       "         1, 1, 1, 1, 1, 1, 1, 1, 1, 1, 1, 1, 1, 1, 1, 1, 1, 1, 1, 1, 1, 1, 1, 1,\n",
       "         1, 1, 1, 1, 1, 1, 1, 1, 1, 1, 1, 1, 1, 1, 1, 1, 1, 1, 1, 1, 1, 1, 1, 1,\n",
       "         1, 1, 1, 1, 1, 1, 1, 1, 1, 1, 1, 1, 1, 1, 1, 1, 1, 1, 1, 1, 1, 1, 1, 1,\n",
       "         1, 1, 1, 1, 1, 1, 1, 1, 1, 1, 1, 1, 1, 1, 1, 1, 1, 1, 1, 1, 1, 1, 1, 1,\n",
       "         1, 1, 1, 1, 1, 1, 1, 1, 1, 1, 1, 1, 1, 1, 1, 1, 1, 1, 1, 1, 1, 1, 1, 1,\n",
       "         1, 1, 1, 1, 1, 1, 1, 1, 1, 1, 1, 1, 1, 1, 1, 1, 1, 1, 1, 1, 1, 1, 1, 1,\n",
       "         1, 1, 1, 1, 1, 1, 1, 1, 1, 1, 1, 1, 1, 1, 1, 1, 1, 1, 1, 1, 1, 1, 1, 1,\n",
       "         1, 1, 1, 1, 1, 1, 1, 1, 1, 1, 1, 1, 1, 1, 1, 1, 1, 1, 1, 1, 1, 1, 1, 1,\n",
       "         1, 1, 1, 1, 1, 1, 1, 1, 1, 1, 1, 1, 1, 1, 1, 1, 1, 1, 1, 1, 1, 1, 1, 1,\n",
       "         1, 1, 1, 1, 1, 1, 1, 1, 1, 1, 1, 1, 1, 1, 1, 1, 1, 1, 1, 1, 1, 1, 1, 1,\n",
       "         1, 1, 1, 1, 1, 1, 1, 1, 1, 1, 1, 1, 1, 1, 1, 1, 1, 1, 1, 1, 1, 1, 1, 1,\n",
       "         1, 1, 1]])}"
      ]
     },
     "execution_count": 11,
     "metadata": {},
     "output_type": "execute_result"
    }
   ],
   "execution_count": 11
  },
  {
   "metadata": {
    "ExecuteTime": {
     "end_time": "2024-09-06T08:29:47.734035Z",
     "start_time": "2024-09-06T08:29:47.729736Z"
    }
   },
   "cell_type": "code",
   "source": [
    "def get_gradients(batch):\n",
    "    gradients = {}\n",
    "    \n",
    "    model.zero_grad()\n",
    "\n",
    "    output = model(**batch, use_cache=False)\n",
    "    loss = output.loss\n",
    "    \n",
    "    loss.backward()\n",
    "    \n",
    "    for name, param in model.named_parameters():\n",
    "        if param.grad is not None:\n",
    "            gradients[name] = param.grad.clone().detach()\n",
    "            \n",
    "    return gradients"
   ],
   "id": "df0e00edc0cb34a0",
   "outputs": [],
   "execution_count": 11
  },
  {
   "metadata": {
    "ExecuteTime": {
     "end_time": "2024-09-06T08:29:48.439988Z",
     "start_time": "2024-09-06T08:29:47.782616Z"
    }
   },
   "cell_type": "code",
   "source": [
    "decoded_input = tokenizer.decode(token_ids=list(train_dataloader)[0][\"input_ids\"][0].tolist())\n",
    "decoded_input"
   ],
   "id": "209d4c46ee109386",
   "outputs": [
    {
     "data": {
      "text/plain": [
       "'<|user|>\\nCan brain cells move? By movement I mean long distance migration (preferably within the brain only).\\n<|assistant|>\\nThe question is relatively broad and one should take into account that the brain not only consists of neurons, but also glial cells (supportive cells) and pre-mitotic neuronal stem cells. Furthermore, as critical fellow-scientists have indicated, developmental stage is very important, as the developing embryonic brain is very different from the adult brain.\\nHowever, after sifting through various publications, the answer to the question is actually remarkably simple: Yes, brain cells migrate.\\nIn  the adult brain glial cells migrate in the brain (Klämbt, 2009). Glial cells are involved in a myriad of functions, but a notable example of migrating glial cells are the oligodendrocytes that migrate relative long distances to find their target axons onto which they wrap themselves to form the insulating myelin sheath (Tsai and Miller, 2002).\\nNeuronal stem cells migrate over long distances in response to injury (Imitola et al., 2004) and they migrate from specific stem-cell locations (e.g., hippocampus and subventricular zone) to other regions (Clarke, 2003).\\nPost-mitotic, but non-differentiated neurons have been shown to migrate in the adult brain in fish (Scott et al., 2012), and in mammals and non-human primates as well (Sawada et al., 2011).\\nNot surprisingly, glial cells, stem cells and neurons also migrate during embryonic development. Most notably, post-mitotic neurons destined to fulfill peripheral functions have to migrate over relatively long distances from the neural crest to their target locations (Neuroscience, 2nd ed, Neuronal Migration).<|endoftext|>'"
      ]
     },
     "execution_count": 12,
     "metadata": {},
     "output_type": "execute_result"
    }
   ],
   "execution_count": 12
  },
  {
   "metadata": {
    "ExecuteTime": {
     "end_time": "2024-09-06T08:43:03.433273Z",
     "start_time": "2024-09-06T08:43:02.808116Z"
    }
   },
   "cell_type": "code",
   "source": [
    "decoded_output = tokenizer.decode(token_ids=[(tokenizer.pad_token_id if token == -100 else token) for token in list(train_dataloader)[0][\"labels\"][0].tolist()])\n",
    "decoded_output"
   ],
   "id": "fe368e39bf970b52",
   "outputs": [
    {
     "data": {
      "text/plain": [
       "'<|padding|><|padding|><|padding|><|padding|><|padding|><|padding|><|padding|><|padding|><|padding|><|padding|><|padding|><|padding|><|padding|><|padding|><|padding|><|padding|><|padding|><|padding|><|padding|><|padding|><|padding|><|padding|><|padding|><|padding|><|padding|><|padding|><|padding|><|padding|><|padding|><|padding|><|padding|><|padding|>The question is relatively broad and one should take into account that the brain not only consists of neurons, but also glial cells (supportive cells) and pre-mitotic neuronal stem cells. Furthermore, as critical fellow-scientists have indicated, developmental stage is very important, as the developing embryonic brain is very different from the adult brain.\\nHowever, after sifting through various publications, the answer to the question is actually remarkably simple: Yes, brain cells migrate.\\nIn  the adult brain glial cells migrate in the brain (Klämbt, 2009). Glial cells are involved in a myriad of functions, but a notable example of migrating glial cells are the oligodendrocytes that migrate relative long distances to find their target axons onto which they wrap themselves to form the insulating myelin sheath (Tsai and Miller, 2002).\\nNeuronal stem cells migrate over long distances in response to injury (Imitola et al., 2004) and they migrate from specific stem-cell locations (e.g., hippocampus and subventricular zone) to other regions (Clarke, 2003).\\nPost-mitotic, but non-differentiated neurons have been shown to migrate in the adult brain in fish (Scott et al., 2012), and in mammals and non-human primates as well (Sawada et al., 2011).\\nNot surprisingly, glial cells, stem cells and neurons also migrate during embryonic development. Most notably, post-mitotic neurons destined to fulfill peripheral functions have to migrate over relatively long distances from the neural crest to their target locations (Neuroscience, 2nd ed, Neuronal Migration).<|endoftext|>'"
      ]
     },
     "execution_count": 12,
     "metadata": {},
     "output_type": "execute_result"
    }
   ],
   "execution_count": 12
  },
  {
   "metadata": {},
   "cell_type": "code",
   "outputs": [],
   "execution_count": null,
   "source": "",
   "id": "59da9313037f768b"
  },
  {
   "metadata": {},
   "cell_type": "markdown",
   "source": [
    "---\n",
    "# gradient checking - start"
   ],
   "id": "4dfb3fde0ab357c6"
  },
  {
   "metadata": {
    "ExecuteTime": {
     "end_time": "2024-09-06T08:29:50.408809Z",
     "start_time": "2024-09-06T08:29:49.129607Z"
    }
   },
   "cell_type": "code",
   "source": [
    "training_sample_0 = list(train_dataloader)[0]\n",
    "training_sample_1 = list(train_dataloader)[1]"
   ],
   "id": "f193e6d05c62d392",
   "outputs": [],
   "execution_count": 14
  },
  {
   "metadata": {
    "ExecuteTime": {
     "end_time": "2024-09-06T08:29:50.448041Z",
     "start_time": "2024-09-06T08:29:50.444476Z"
    }
   },
   "cell_type": "code",
   "source": [
    "# first and foremost, check if two samples are different after tokenizing\n",
    "if training_sample_0[\"input_ids\"].equal(training_sample_1[\"input_ids\"]): \n",
    "    print(\"Tokenized inputs are the same. Check tokenizing functionality!\")\n",
    "else:\n",
    "    print(\"As expected, tokenized inputs are not the same. \")"
   ],
   "id": "4c2ff3d1240b9851",
   "outputs": [
    {
     "name": "stdout",
     "output_type": "stream",
     "text": [
      "As expected, tokenized inputs are not the same. \n"
     ]
    }
   ],
   "execution_count": 15
  },
  {
   "metadata": {
    "ExecuteTime": {
     "end_time": "2024-09-06T08:30:32.774911Z",
     "start_time": "2024-09-06T08:29:50.493328Z"
    }
   },
   "cell_type": "code",
   "source": [
    "# check idempotency of some input samples\n",
    "gradients_sample_0 = get_gradients(training_sample_0)\n",
    "gradients_sample_1 = get_gradients(training_sample_1)\n",
    "gradients_sample_0_later = get_gradients(training_sample_0)"
   ],
   "id": "521092b0fb49e785",
   "outputs": [],
   "execution_count": 16
  },
  {
   "metadata": {
    "ExecuteTime": {
     "end_time": "2024-09-06T08:30:32.827791Z",
     "start_time": "2024-09-06T08:30:32.823548Z"
    }
   },
   "cell_type": "code",
   "source": [
    "# gradient dictionary keys of sample_0, sample_0_later and sample_1 should be the same\n",
    "assert gradients_sample_0.keys() == gradients_sample_0_later.keys() == gradients_sample_1.keys()"
   ],
   "id": "254dce7901dc59cb",
   "outputs": [],
   "execution_count": 17
  },
  {
   "metadata": {
    "ExecuteTime": {
     "end_time": "2024-09-06T08:30:33.292379Z",
     "start_time": "2024-09-06T08:30:32.880376Z"
    }
   },
   "cell_type": "code",
   "source": [
    "# compare gradient of the same sample\n",
    "assert gradients_sample_0.keys() == gradients_sample_0_later.keys(), \"Gradient dictionaries must have same keys.\"\n",
    "\n",
    "for key in gradients_sample_0.keys():\n",
    "    assert gradients_sample_0[key].equal(gradients_sample_0_later[key]), f\"Gradient '{key}' not equal!\"\n",
    "    \n",
    "print(\"Gradients are equal when using the same sample.\")"
   ],
   "id": "baa639c8c85aacc4",
   "outputs": [
    {
     "name": "stdout",
     "output_type": "stream",
     "text": [
      "Gradients are equal when using the same sample.\n"
     ]
    }
   ],
   "execution_count": 18
  },
  {
   "metadata": {
    "ExecuteTime": {
     "end_time": "2024-09-06T08:30:33.342684Z",
     "start_time": "2024-09-06T08:30:33.338073Z"
    }
   },
   "cell_type": "code",
   "source": [
    "# compare gradients of two different samples\n",
    "assert gradients_sample_0.keys() == gradients_sample_1.keys(), \"Gradient dictionaries must have same keys.\"\n",
    "\n",
    "for key in gradients_sample_0.keys():\n",
    "    assert not gradients_sample_0[key].equal(gradients_sample_1[key]), f\"Gradient '{key}' equal!\"\n",
    "    \n",
    "print(\"Gradients are different when using two different samples.\")"
   ],
   "id": "eb72be828f96a0a8",
   "outputs": [
    {
     "name": "stdout",
     "output_type": "stream",
     "text": [
      "Gradients are different when using two different samples.\n"
     ]
    }
   ],
   "execution_count": 19
  },
  {
   "metadata": {
    "ExecuteTime": {
     "end_time": "2024-09-06T08:30:33.449648Z",
     "start_time": "2024-09-06T08:30:33.446023Z"
    }
   },
   "cell_type": "code",
   "source": [
    "def get_flattened_weight_vector(weight_dict: dict) -> torch.Tensor:\n",
    "    flattened_weights = []\n",
    "    for weights in weight_dict.values():\n",
    "        flattened_weights.append(weights.flatten())\n",
    "        \n",
    "    return torch.cat(flattened_weights)"
   ],
   "id": "59be41d86eae8fe5",
   "outputs": [],
   "execution_count": 20
  },
  {
   "metadata": {
    "ExecuteTime": {
     "end_time": "2024-09-06T08:30:34.059045Z",
     "start_time": "2024-09-06T08:30:33.500157Z"
    }
   },
   "cell_type": "code",
   "source": "get_flattened_weight_vector(gradients_sample_0)",
   "id": "fb17cd09c8dd2e9",
   "outputs": [
    {
     "data": {
      "text/plain": [
       "tensor([-6.6105e-09,  2.3362e-09, -6.1912e-09,  ..., -2.1295e-04,\n",
       "         1.4201e-03, -1.9168e-03])"
      ]
     },
     "execution_count": 21,
     "metadata": {},
     "output_type": "execute_result"
    }
   ],
   "execution_count": 21
  },
  {
   "metadata": {
    "ExecuteTime": {
     "end_time": "2024-09-06T08:30:34.616297Z",
     "start_time": "2024-09-06T08:30:34.144007Z"
    }
   },
   "cell_type": "code",
   "source": "cosine_similarity(get_flattened_weight_vector(gradients_sample_0), get_flattened_weight_vector(gradients_sample_0), dim=0)",
   "id": "c831a27d690ea686",
   "outputs": [
    {
     "ename": "NameError",
     "evalue": "name 'cosine_similarity' is not defined",
     "output_type": "error",
     "traceback": [
      "\u001B[0;31m---------------------------------------------------------------------------\u001B[0m",
      "\u001B[0;31mNameError\u001B[0m                                 Traceback (most recent call last)",
      "Cell \u001B[0;32mIn[22], line 1\u001B[0m\n\u001B[0;32m----> 1\u001B[0m cosine_similarity(get_flattened_weight_vector(gradients_sample_0), get_flattened_weight_vector(gradients_sample_0), dim\u001B[38;5;241m=\u001B[39m\u001B[38;5;241m0\u001B[39m)\n",
      "\u001B[0;31mNameError\u001B[0m: name 'cosine_similarity' is not defined"
     ]
    }
   ],
   "execution_count": 22
  },
  {
   "metadata": {
    "ExecuteTime": {
     "end_time": "2024-09-06T08:30:34.699749683Z",
     "start_time": "2024-09-04T06:52:41.367450Z"
    }
   },
   "cell_type": "code",
   "source": [
    "#del training_sample_0\n",
    "#del training_sample_1\n",
    "\n",
    "#del gradients_sample_0\n",
    "#del gradients_sample_1\n",
    "#del gradients_sample_0_later"
   ],
   "id": "de642344a925136f",
   "outputs": [],
   "execution_count": 21
  },
  {
   "metadata": {},
   "cell_type": "markdown",
   "source": [
    "# gradient checking - end\n",
    "\n",
    "---"
   ],
   "id": "c3eae9e9703e1bbc"
  },
  {
   "metadata": {
    "ExecuteTime": {
     "end_time": "2024-09-06T08:30:34.702005686Z",
     "start_time": "2024-09-04T12:07:02.301136Z"
    }
   },
   "cell_type": "code",
   "source": [
    "training_sample_0 = list(train_dataloader)[0]\n",
    "\n",
    "gradients_sample_0 = get_gradients(training_sample_0)"
   ],
   "id": "5e53c8a11abe6c32",
   "outputs": [],
   "execution_count": 14
  },
  {
   "metadata": {
    "ExecuteTime": {
     "end_time": "2024-09-06T08:30:34.702903679Z",
     "start_time": "2024-09-04T12:12:47.960419Z"
    }
   },
   "cell_type": "code",
   "source": [
    "for key, value in gradients_sample_0.items():\n",
    "    \n",
    "    print(f\"{key}: {value.shape}\")"
   ],
   "id": "bc244fa7d6650e8b",
   "outputs": [
    {
     "name": "stdout",
     "output_type": "stream",
     "text": [
      "model.embed_tokens.weight: torch.Size([50304, 2048])\n",
      "model.layers.0.self_attn.q_proj.weight: torch.Size([2048, 2048])\n",
      "model.layers.0.self_attn.k_proj.weight: torch.Size([2048, 2048])\n",
      "model.layers.0.self_attn.v_proj.weight: torch.Size([2048, 2048])\n",
      "model.layers.0.self_attn.o_proj.weight: torch.Size([2048, 2048])\n",
      "model.layers.0.mlp.gate_proj.weight: torch.Size([8192, 2048])\n",
      "model.layers.0.mlp.up_proj.weight: torch.Size([8192, 2048])\n",
      "model.layers.0.mlp.down_proj.weight: torch.Size([2048, 8192])\n",
      "model.layers.1.self_attn.q_proj.weight: torch.Size([2048, 2048])\n",
      "model.layers.1.self_attn.k_proj.weight: torch.Size([2048, 2048])\n",
      "model.layers.1.self_attn.v_proj.weight: torch.Size([2048, 2048])\n",
      "model.layers.1.self_attn.o_proj.weight: torch.Size([2048, 2048])\n",
      "model.layers.1.mlp.gate_proj.weight: torch.Size([8192, 2048])\n",
      "model.layers.1.mlp.up_proj.weight: torch.Size([8192, 2048])\n",
      "model.layers.1.mlp.down_proj.weight: torch.Size([2048, 8192])\n",
      "model.layers.2.self_attn.q_proj.weight: torch.Size([2048, 2048])\n",
      "model.layers.2.self_attn.k_proj.weight: torch.Size([2048, 2048])\n",
      "model.layers.2.self_attn.v_proj.weight: torch.Size([2048, 2048])\n",
      "model.layers.2.self_attn.o_proj.weight: torch.Size([2048, 2048])\n",
      "model.layers.2.mlp.gate_proj.weight: torch.Size([8192, 2048])\n",
      "model.layers.2.mlp.up_proj.weight: torch.Size([8192, 2048])\n",
      "model.layers.2.mlp.down_proj.weight: torch.Size([2048, 8192])\n",
      "model.layers.3.self_attn.q_proj.weight: torch.Size([2048, 2048])\n",
      "model.layers.3.self_attn.k_proj.weight: torch.Size([2048, 2048])\n",
      "model.layers.3.self_attn.v_proj.weight: torch.Size([2048, 2048])\n",
      "model.layers.3.self_attn.o_proj.weight: torch.Size([2048, 2048])\n",
      "model.layers.3.mlp.gate_proj.weight: torch.Size([8192, 2048])\n",
      "model.layers.3.mlp.up_proj.weight: torch.Size([8192, 2048])\n",
      "model.layers.3.mlp.down_proj.weight: torch.Size([2048, 8192])\n",
      "model.layers.4.self_attn.q_proj.weight: torch.Size([2048, 2048])\n",
      "model.layers.4.self_attn.k_proj.weight: torch.Size([2048, 2048])\n",
      "model.layers.4.self_attn.v_proj.weight: torch.Size([2048, 2048])\n",
      "model.layers.4.self_attn.o_proj.weight: torch.Size([2048, 2048])\n",
      "model.layers.4.mlp.gate_proj.weight: torch.Size([8192, 2048])\n",
      "model.layers.4.mlp.up_proj.weight: torch.Size([8192, 2048])\n",
      "model.layers.4.mlp.down_proj.weight: torch.Size([2048, 8192])\n",
      "model.layers.5.self_attn.q_proj.weight: torch.Size([2048, 2048])\n",
      "model.layers.5.self_attn.k_proj.weight: torch.Size([2048, 2048])\n",
      "model.layers.5.self_attn.v_proj.weight: torch.Size([2048, 2048])\n",
      "model.layers.5.self_attn.o_proj.weight: torch.Size([2048, 2048])\n",
      "model.layers.5.mlp.gate_proj.weight: torch.Size([8192, 2048])\n",
      "model.layers.5.mlp.up_proj.weight: torch.Size([8192, 2048])\n",
      "model.layers.5.mlp.down_proj.weight: torch.Size([2048, 8192])\n",
      "model.layers.6.self_attn.q_proj.weight: torch.Size([2048, 2048])\n",
      "model.layers.6.self_attn.k_proj.weight: torch.Size([2048, 2048])\n",
      "model.layers.6.self_attn.v_proj.weight: torch.Size([2048, 2048])\n",
      "model.layers.6.self_attn.o_proj.weight: torch.Size([2048, 2048])\n",
      "model.layers.6.mlp.gate_proj.weight: torch.Size([8192, 2048])\n",
      "model.layers.6.mlp.up_proj.weight: torch.Size([8192, 2048])\n",
      "model.layers.6.mlp.down_proj.weight: torch.Size([2048, 8192])\n",
      "model.layers.7.self_attn.q_proj.weight: torch.Size([2048, 2048])\n",
      "model.layers.7.self_attn.k_proj.weight: torch.Size([2048, 2048])\n",
      "model.layers.7.self_attn.v_proj.weight: torch.Size([2048, 2048])\n",
      "model.layers.7.self_attn.o_proj.weight: torch.Size([2048, 2048])\n",
      "model.layers.7.mlp.gate_proj.weight: torch.Size([8192, 2048])\n",
      "model.layers.7.mlp.up_proj.weight: torch.Size([8192, 2048])\n",
      "model.layers.7.mlp.down_proj.weight: torch.Size([2048, 8192])\n",
      "model.layers.8.self_attn.q_proj.weight: torch.Size([2048, 2048])\n",
      "model.layers.8.self_attn.k_proj.weight: torch.Size([2048, 2048])\n",
      "model.layers.8.self_attn.v_proj.weight: torch.Size([2048, 2048])\n",
      "model.layers.8.self_attn.o_proj.weight: torch.Size([2048, 2048])\n",
      "model.layers.8.mlp.gate_proj.weight: torch.Size([8192, 2048])\n",
      "model.layers.8.mlp.up_proj.weight: torch.Size([8192, 2048])\n",
      "model.layers.8.mlp.down_proj.weight: torch.Size([2048, 8192])\n",
      "model.layers.9.self_attn.q_proj.weight: torch.Size([2048, 2048])\n",
      "model.layers.9.self_attn.k_proj.weight: torch.Size([2048, 2048])\n",
      "model.layers.9.self_attn.v_proj.weight: torch.Size([2048, 2048])\n",
      "model.layers.9.self_attn.o_proj.weight: torch.Size([2048, 2048])\n",
      "model.layers.9.mlp.gate_proj.weight: torch.Size([8192, 2048])\n",
      "model.layers.9.mlp.up_proj.weight: torch.Size([8192, 2048])\n",
      "model.layers.9.mlp.down_proj.weight: torch.Size([2048, 8192])\n",
      "model.layers.10.self_attn.q_proj.weight: torch.Size([2048, 2048])\n",
      "model.layers.10.self_attn.k_proj.weight: torch.Size([2048, 2048])\n",
      "model.layers.10.self_attn.v_proj.weight: torch.Size([2048, 2048])\n",
      "model.layers.10.self_attn.o_proj.weight: torch.Size([2048, 2048])\n",
      "model.layers.10.mlp.gate_proj.weight: torch.Size([8192, 2048])\n",
      "model.layers.10.mlp.up_proj.weight: torch.Size([8192, 2048])\n",
      "model.layers.10.mlp.down_proj.weight: torch.Size([2048, 8192])\n",
      "model.layers.11.self_attn.q_proj.weight: torch.Size([2048, 2048])\n",
      "model.layers.11.self_attn.k_proj.weight: torch.Size([2048, 2048])\n",
      "model.layers.11.self_attn.v_proj.weight: torch.Size([2048, 2048])\n",
      "model.layers.11.self_attn.o_proj.weight: torch.Size([2048, 2048])\n",
      "model.layers.11.mlp.gate_proj.weight: torch.Size([8192, 2048])\n",
      "model.layers.11.mlp.up_proj.weight: torch.Size([8192, 2048])\n",
      "model.layers.11.mlp.down_proj.weight: torch.Size([2048, 8192])\n",
      "model.layers.12.self_attn.q_proj.weight: torch.Size([2048, 2048])\n",
      "model.layers.12.self_attn.k_proj.weight: torch.Size([2048, 2048])\n",
      "model.layers.12.self_attn.v_proj.weight: torch.Size([2048, 2048])\n",
      "model.layers.12.self_attn.o_proj.weight: torch.Size([2048, 2048])\n",
      "model.layers.12.mlp.gate_proj.weight: torch.Size([8192, 2048])\n",
      "model.layers.12.mlp.up_proj.weight: torch.Size([8192, 2048])\n",
      "model.layers.12.mlp.down_proj.weight: torch.Size([2048, 8192])\n",
      "model.layers.13.self_attn.q_proj.weight: torch.Size([2048, 2048])\n",
      "model.layers.13.self_attn.k_proj.weight: torch.Size([2048, 2048])\n",
      "model.layers.13.self_attn.v_proj.weight: torch.Size([2048, 2048])\n",
      "model.layers.13.self_attn.o_proj.weight: torch.Size([2048, 2048])\n",
      "model.layers.13.mlp.gate_proj.weight: torch.Size([8192, 2048])\n",
      "model.layers.13.mlp.up_proj.weight: torch.Size([8192, 2048])\n",
      "model.layers.13.mlp.down_proj.weight: torch.Size([2048, 8192])\n",
      "model.layers.14.self_attn.q_proj.weight: torch.Size([2048, 2048])\n",
      "model.layers.14.self_attn.k_proj.weight: torch.Size([2048, 2048])\n",
      "model.layers.14.self_attn.v_proj.weight: torch.Size([2048, 2048])\n",
      "model.layers.14.self_attn.o_proj.weight: torch.Size([2048, 2048])\n",
      "model.layers.14.mlp.gate_proj.weight: torch.Size([8192, 2048])\n",
      "model.layers.14.mlp.up_proj.weight: torch.Size([8192, 2048])\n",
      "model.layers.14.mlp.down_proj.weight: torch.Size([2048, 8192])\n",
      "model.layers.15.self_attn.q_proj.weight: torch.Size([2048, 2048])\n",
      "model.layers.15.self_attn.k_proj.weight: torch.Size([2048, 2048])\n",
      "model.layers.15.self_attn.v_proj.weight: torch.Size([2048, 2048])\n",
      "model.layers.15.self_attn.o_proj.weight: torch.Size([2048, 2048])\n",
      "model.layers.15.mlp.gate_proj.weight: torch.Size([8192, 2048])\n",
      "model.layers.15.mlp.up_proj.weight: torch.Size([8192, 2048])\n",
      "model.layers.15.mlp.down_proj.weight: torch.Size([2048, 8192])\n"
     ]
    }
   ],
   "execution_count": 19
  },
  {
   "metadata": {},
   "cell_type": "code",
   "outputs": [],
   "execution_count": null,
   "source": [
    "# todo: investigate how olmo uses a single training iteration, check masking\n",
    "# todo: add filtering with regard to open instruct (threshold for similarity)\n",
    "# todo: ranking between sampling\n",
    "# todo: tf-idf -> term-frequency inverse-document-frequency\n",
    "# todo: think about explainability vs. similarity"
   ],
   "id": "e1ce277adef4a061"
  }
 ],
 "metadata": {
  "kernelspec": {
   "display_name": "Python 3",
   "language": "python",
   "name": "python3"
  },
  "language_info": {
   "codemirror_mode": {
    "name": "ipython",
    "version": 2
   },
   "file_extension": ".py",
   "mimetype": "text/x-python",
   "name": "python",
   "nbconvert_exporter": "python",
   "pygments_lexer": "ipython2",
   "version": "2.7.6"
  }
 },
 "nbformat": 4,
 "nbformat_minor": 5
}
