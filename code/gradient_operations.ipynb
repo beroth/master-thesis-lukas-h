{
 "cells": [
  {
   "cell_type": "code",
   "id": "initial_id",
   "metadata": {
    "collapsed": true,
    "ExecuteTime": {
     "end_time": "2024-07-17T20:31:04.676373Z",
     "start_time": "2024-07-17T20:31:04.673776Z"
    }
   },
   "source": [
    "from transformers import OlmoForCausalLM, AutoTokenizer\n",
    "from datasets import load_from_disk\n",
    "import torch\n",
    "import numpy as np\n",
    "import random\n",
    "\n",
    "from open_instruct.open_instruct.finetune import encode_with_messages_format\n",
    "\n",
    "from utilities import transform_dataset"
   ],
   "outputs": [],
   "execution_count": 132
  },
  {
   "metadata": {
    "ExecuteTime": {
     "end_time": "2024-07-17T20:31:05.233667Z",
     "start_time": "2024-07-17T20:31:05.230220Z"
    }
   },
   "cell_type": "code",
   "source": [
    "# Set seeds for reproducibility\n",
    "torch.manual_seed(42)\n",
    "np.random.seed(42)\n",
    "random.seed(42)\n",
    "torch.backends.cudnn.deterministic = True\n",
    "torch.backends.cudnn.benchmark = False"
   ],
   "id": "af748f64e20a4fa8",
   "outputs": [],
   "execution_count": 133
  },
  {
   "metadata": {
    "ExecuteTime": {
     "end_time": "2024-07-17T20:31:08.735623Z",
     "start_time": "2024-07-17T20:31:06.963504Z"
    }
   },
   "cell_type": "code",
   "source": [
    "olmo = OlmoForCausalLM.from_pretrained(\"allenai/OLMo-1B-hf\")\n",
    "tokenizer = AutoTokenizer.from_pretrained(\"allenai/OLMo-1B-hf\")\n",
    "\n",
    "print(tokenizer.eos_token_id)\n",
    "print(tokenizer.pad_token_id)"
   ],
   "id": "addc6245190d0ee2",
   "outputs": [
    {
     "name": "stdout",
     "output_type": "stream",
     "text": [
      "50279\n",
      "1\n"
     ]
    }
   ],
   "execution_count": 134
  },
  {
   "metadata": {
    "ExecuteTime": {
     "end_time": "2024-07-17T20:31:08.740110Z",
     "start_time": "2024-07-17T20:31:08.736837Z"
    }
   },
   "cell_type": "code",
   "source": [
    "device = torch.device('cuda' if torch.cuda.is_available() else 'cpu')\n",
    "device"
   ],
   "id": "c64e2b22c156b3f",
   "outputs": [
    {
     "data": {
      "text/plain": [
       "device(type='cuda')"
      ]
     },
     "execution_count": 135,
     "metadata": {},
     "output_type": "execute_result"
    }
   ],
   "execution_count": 135
  },
  {
   "metadata": {
    "ExecuteTime": {
     "end_time": "2024-07-17T20:33:50.148603Z",
     "start_time": "2024-07-17T20:33:50.142856Z"
    }
   },
   "cell_type": "code",
   "source": "olmo.eval()",
   "id": "1b5ea9b4364e38c2",
   "outputs": [
    {
     "data": {
      "text/plain": [
       "OlmoForCausalLM(\n",
       "  (model): OlmoModel(\n",
       "    (embed_tokens): Embedding(50304, 2048, padding_idx=1)\n",
       "    (layers): ModuleList(\n",
       "      (0-15): 16 x OlmoDecoderLayer(\n",
       "        (self_attn): OlmoSdpaAttention(\n",
       "          (q_proj): Linear(in_features=2048, out_features=2048, bias=False)\n",
       "          (k_proj): Linear(in_features=2048, out_features=2048, bias=False)\n",
       "          (v_proj): Linear(in_features=2048, out_features=2048, bias=False)\n",
       "          (o_proj): Linear(in_features=2048, out_features=2048, bias=False)\n",
       "          (rotary_emb): OlmoRotaryEmbedding()\n",
       "        )\n",
       "        (mlp): OlmoMLP(\n",
       "          (gate_proj): Linear(in_features=2048, out_features=8192, bias=False)\n",
       "          (up_proj): Linear(in_features=2048, out_features=8192, bias=False)\n",
       "          (down_proj): Linear(in_features=8192, out_features=2048, bias=False)\n",
       "          (act_fn): SiLU()\n",
       "        )\n",
       "        (input_layernorm): OlmoLayerNorm()\n",
       "        (post_attention_layernorm): OlmoLayerNorm()\n",
       "      )\n",
       "    )\n",
       "    (norm): OlmoLayerNorm()\n",
       "  )\n",
       "  (lm_head): Linear(in_features=2048, out_features=50304, bias=False)\n",
       ")"
      ]
     },
     "execution_count": 155,
     "metadata": {},
     "output_type": "execute_result"
    }
   ],
   "execution_count": 155
  },
  {
   "metadata": {
    "ExecuteTime": {
     "end_time": "2024-07-17T20:31:11.004978Z",
     "start_time": "2024-07-17T20:31:10.998432Z"
    }
   },
   "cell_type": "code",
   "source": [
    "dataset = load_from_disk(\"./data/lima/single_question_answers\")\n",
    "dataset"
   ],
   "id": "b94aff18b2d7ddec",
   "outputs": [
    {
     "data": {
      "text/plain": [
       "Dataset({\n",
       "    features: ['dataset', 'id', 'messages'],\n",
       "    num_rows: 988\n",
       "})"
      ]
     },
     "execution_count": 137,
     "metadata": {},
     "output_type": "execute_result"
    }
   ],
   "execution_count": 137
  },
  {
   "metadata": {
    "ExecuteTime": {
     "end_time": "2024-07-17T20:31:29.842599Z",
     "start_time": "2024-07-17T20:31:29.824406Z"
    }
   },
   "cell_type": "code",
   "source": "dataset[\"messages\"][0][0][\"content\"]",
   "id": "386490549705eab1",
   "outputs": [
    {
     "data": {
      "text/plain": [
       "'Can brain cells move? By movement I mean long distance migration (preferably within the brain only).'"
      ]
     },
     "execution_count": 139,
     "metadata": {},
     "output_type": "execute_result"
    }
   ],
   "execution_count": 139
  },
  {
   "metadata": {
    "ExecuteTime": {
     "end_time": "2024-07-17T20:31:30.616028Z",
     "start_time": "2024-07-17T20:31:30.598550Z"
    }
   },
   "cell_type": "code",
   "source": "dataset[\"messages\"][0][1][\"content\"]",
   "id": "c641fcd39cc1439b",
   "outputs": [
    {
     "data": {
      "text/plain": [
       "'The question is relatively broad and one should take into account that the brain not only consists of neurons, but also glial cells (supportive cells) and pre-mitotic neuronal stem cells. Furthermore, as critical fellow-scientists have indicated, developmental stage is very important, as the developing embryonic brain is very different from the adult brain.\\nHowever, after sifting through various publications, the answer to the question is actually remarkably simple: Yes, brain cells migrate.\\nIn  the adult brain glial cells migrate in the brain (Klämbt, 2009). Glial cells are involved in a myriad of functions, but a notable example of migrating glial cells are the oligodendrocytes that migrate relative long distances to find their target axons onto which they wrap themselves to form the insulating myelin sheath (Tsai and Miller, 2002).\\nNeuronal stem cells migrate over long distances in response to injury (Imitola et al., 2004) and they migrate from specific stem-cell locations (e.g., hippocampus and subventricular zone) to other regions (Clarke, 2003).\\nPost-mitotic, but non-differentiated neurons have been shown to migrate in the adult brain in fish (Scott et al., 2012), and in mammals and non-human primates as well (Sawada et al., 2011).\\nNot surprisingly, glial cells, stem cells and neurons also migrate during embryonic development. Most notably, post-mitotic neurons destined to fulfill peripheral functions have to migrate over relatively long distances from the neural crest to their target locations (Neuroscience, 2nd ed, Neuronal Migration).'"
      ]
     },
     "execution_count": 140,
     "metadata": {},
     "output_type": "execute_result"
    }
   ],
   "execution_count": 140
  },
  {
   "metadata": {
    "ExecuteTime": {
     "end_time": "2024-07-17T20:31:33.039815Z",
     "start_time": "2024-07-17T20:31:31.120024Z"
    }
   },
   "cell_type": "code",
   "source": [
    "from functools import partial\n",
    "from torch.utils.data import DataLoader\n",
    "from transformers import DataCollatorForSeq2Seq\n",
    "\n",
    "encode_function = partial(\n",
    "    encode_with_messages_format,\n",
    "    tokenizer=tokenizer,\n",
    "    max_seq_length=2048,\n",
    "    add_bos=False,\n",
    ")\n",
    "\n",
    "lm_dataset = dataset.map(\n",
    "    encode_function,\n",
    "    batched=False,\n",
    "    num_proc=1,\n",
    "    load_from_cache_file=False,\n",
    "    remove_columns=[\n",
    "        name\n",
    "        for name in dataset.column_names\n",
    "        if name not in [\"input_ids\", \"labels\", \"attention_mask\"]\n",
    "    ],\n",
    "    desc=\"Tokenizing and reformatting instruction data\",\n",
    ")\n",
    "lm_dataset.set_format(type=\"pt\")\n",
    "lm_dataset = lm_dataset.filter(lambda example: (example[\"labels\"] != -100).any())\n",
    "\n",
    "train_dataloader = DataLoader(\n",
    "    lm_dataset,\n",
    "    shuffle=False,\n",
    "    collate_fn=DataCollatorForSeq2Seq(tokenizer=tokenizer, model=olmo, padding=\"longest\"),\n",
    "    batch_size=1,\n",
    ")"
   ],
   "id": "7f41a2fe2aa324e8",
   "outputs": [
    {
     "data": {
      "text/plain": [
       "Tokenizing and reformatting instruction data:   0%|          | 0/988 [00:00<?, ? examples/s]"
      ],
      "application/vnd.jupyter.widget-view+json": {
       "version_major": 2,
       "version_minor": 0,
       "model_id": "7c52d54e40bd48789881d999bfcb93da"
      }
     },
     "metadata": {},
     "output_type": "display_data"
    },
    {
     "data": {
      "text/plain": [
       "Filter:   0%|          | 0/988 [00:00<?, ? examples/s]"
      ],
      "application/vnd.jupyter.widget-view+json": {
       "version_major": 2,
       "version_minor": 0,
       "model_id": "fbb2734cf9734f608a060417b098082a"
      }
     },
     "metadata": {},
     "output_type": "display_data"
    }
   ],
   "execution_count": 141
  },
  {
   "metadata": {
    "ExecuteTime": {
     "end_time": "2024-07-17T20:31:33.879514Z",
     "start_time": "2024-07-17T20:31:33.877096Z"
    }
   },
   "cell_type": "code",
   "source": "print(len(train_dataloader))",
   "id": "183611490872b818",
   "outputs": [
    {
     "name": "stdout",
     "output_type": "stream",
     "text": [
      "988\n"
     ]
    }
   ],
   "execution_count": 142
  },
  {
   "metadata": {
    "ExecuteTime": {
     "end_time": "2024-07-17T20:32:46.906737Z",
     "start_time": "2024-07-17T20:32:46.903388Z"
    }
   },
   "cell_type": "code",
   "source": [
    "def get_gradients(batch):\n",
    "    gradients = {}\n",
    "    \n",
    "    olmo.zero_grad()\n",
    "\n",
    "    output = olmo(**batch, use_cache=False)\n",
    "    loss = output.loss\n",
    "    \n",
    "    loss.backward()\n",
    "    \n",
    "    for name, param in olmo.named_parameters():\n",
    "        if param.grad is not None:\n",
    "            gradients[name] = param.grad.clone().detach()\n",
    "            \n",
    "    return gradients"
   ],
   "id": "df0e00edc0cb34a0",
   "outputs": [],
   "execution_count": 149
  },
  {
   "metadata": {},
   "cell_type": "markdown",
   "source": [
    "---\n",
    "# gradient checking - start"
   ],
   "id": "4dfb3fde0ab357c6"
  },
  {
   "metadata": {
    "ExecuteTime": {
     "end_time": "2024-07-17T20:32:51.077892Z",
     "start_time": "2024-07-17T20:32:49.968493Z"
    }
   },
   "cell_type": "code",
   "source": [
    "training_sample_0 = list(train_dataloader)[0]\n",
    "training_sample_1 = list(train_dataloader)[1]"
   ],
   "id": "f193e6d05c62d392",
   "outputs": [],
   "execution_count": 150
  },
  {
   "metadata": {
    "ExecuteTime": {
     "end_time": "2024-07-17T20:32:51.888465Z",
     "start_time": "2024-07-17T20:32:51.885571Z"
    }
   },
   "cell_type": "code",
   "source": [
    "# first and foremost, check if two samples are different after tokenizing\n",
    "if training_sample_0[\"input_ids\"].equal(training_sample_1[\"input_ids\"]): \n",
    "    print(\"Tokenized inputs are the same. Check tokenizing functionality!\")\n",
    "else:\n",
    "    print(\"As expected, tokenized inputs are not the same. \")"
   ],
   "id": "4c2ff3d1240b9851",
   "outputs": [
    {
     "name": "stdout",
     "output_type": "stream",
     "text": [
      "As expected, tokenized inputs are not the same. \n"
     ]
    }
   ],
   "execution_count": 151
  },
  {
   "metadata": {
    "ExecuteTime": {
     "end_time": "2024-07-17T20:33:21.949380Z",
     "start_time": "2024-07-17T20:32:53.096900Z"
    }
   },
   "cell_type": "code",
   "source": [
    "# check idempotency of some input samples\n",
    "gradients_sample_0 = get_gradients(training_sample_0)\n",
    "gradients_sample_1 = get_gradients(training_sample_1)\n",
    "gradients_sample_0_later = get_gradients(training_sample_0)\n",
    "\n",
    "# gradient dictionary keys of sample_0, sample_0_later and sample_1 should be the same\n",
    "assert gradients_sample_0.keys() == gradients_sample_0_later.keys() == gradients_sample_1.keys()"
   ],
   "id": "254dce7901dc59cb",
   "outputs": [],
   "execution_count": 152
  },
  {
   "metadata": {
    "ExecuteTime": {
     "end_time": "2024-07-17T20:33:26.172514Z",
     "start_time": "2024-07-17T20:33:25.798453Z"
    }
   },
   "cell_type": "code",
   "source": [
    "# compare gradient of the same sample\n",
    "assert gradients_sample_0.keys() == gradients_sample_0_later.keys(), \"Gradient dictionaries must have same keys.\"\n",
    "\n",
    "for key in gradients_sample_0.keys():\n",
    "    assert gradients_sample_0[key].equal(gradients_sample_0_later[key]), f\"Gradient '{key}' not equal!\"\n",
    "    \n",
    "print(\"Gradients are equal when using the same sample.\")"
   ],
   "id": "baa639c8c85aacc4",
   "outputs": [
    {
     "name": "stdout",
     "output_type": "stream",
     "text": [
      "Gradients are equal when using the same sample.\n"
     ]
    }
   ],
   "execution_count": 153
  },
  {
   "metadata": {
    "ExecuteTime": {
     "end_time": "2024-07-17T20:33:31.879165Z",
     "start_time": "2024-07-17T20:33:31.875303Z"
    }
   },
   "cell_type": "code",
   "source": [
    "# compare gradients of two different samples\n",
    "assert gradients_sample_0.keys() == gradients_sample_1.keys(), \"Gradient dictionaries must have same keys.\"\n",
    "\n",
    "for key in gradients_sample_0.keys():\n",
    "    assert not gradients_sample_0[key].equal(gradients_sample_1[key]), f\"Gradient '{key}' equal!\"\n",
    "    \n",
    "print(\"Gradients are different when using two different samples.\")"
   ],
   "id": "eb72be828f96a0a8",
   "outputs": [
    {
     "name": "stdout",
     "output_type": "stream",
     "text": [
      "Gradients are different when using two different samples.\n"
     ]
    }
   ],
   "execution_count": 154
  },
  {
   "metadata": {
    "ExecuteTime": {
     "end_time": "2024-07-17T20:49:37.272926Z",
     "start_time": "2024-07-17T20:49:37.206314Z"
    }
   },
   "cell_type": "code",
   "source": "gradients_sample_0[list(gradients_sample_0.keys())[0]].sum(1).dot(gradients_sample_1[list(gradients_sample_1.keys())[0]].sum(1))",
   "id": "5b176759ac363aaa",
   "outputs": [
    {
     "data": {
      "text/plain": [
       "tensor(-1.9074e-16)"
      ]
     },
     "execution_count": 170,
     "metadata": {},
     "output_type": "execute_result"
    }
   ],
   "execution_count": 170
  },
  {
   "metadata": {},
   "cell_type": "code",
   "outputs": [],
   "execution_count": null,
   "source": [
    "del training_sample_0\n",
    "del training_sample_1\n",
    "\n",
    "del gradients_sample_0\n",
    "del gradients_sample_1\n",
    "del gradients_sample_0_later"
   ],
   "id": "de642344a925136f"
  },
  {
   "metadata": {},
   "cell_type": "markdown",
   "source": [
    "# gradient checking - end\n",
    "\n",
    "---"
   ],
   "id": "c3eae9e9703e1bbc"
  },
  {
   "metadata": {},
   "cell_type": "code",
   "outputs": [],
   "execution_count": null,
   "source": "",
   "id": "5e53c8a11abe6c32"
  },
  {
   "metadata": {
    "ExecuteTime": {
     "end_time": "2024-07-17T20:43:48.098846Z",
     "start_time": "2024-07-17T20:43:41.283339Z"
    }
   },
   "cell_type": "code",
   "source": [
    "gradients = {}\n",
    "\n",
    "for batch in train_dataloader:\n",
    "    olmo.zero_grad()\n",
    "    \n",
    "    output = olmo(**batch, use_cache=False)\n",
    "    loss = output.loss\n",
    "    print(loss)\n",
    "    \n",
    "    loss.backward()\n",
    "    \n",
    "    for name, param in olmo.named_parameters():\n",
    "        if param.grad is not None:\n",
    "            gradients[name] = param.grad.clone().detach()\n",
    "    \n",
    "    break"
   ],
   "id": "dfdbbed23f231235",
   "outputs": [
    {
     "name": "stdout",
     "output_type": "stream",
     "text": [
      "tensor(2.5254, grad_fn=<NllLossBackward0>)\n"
     ]
    }
   ],
   "execution_count": 161
  },
  {
   "metadata": {
    "ExecuteTime": {
     "end_time": "2024-07-17T20:43:51.156084Z",
     "start_time": "2024-07-17T20:43:51.127565Z"
    }
   },
   "cell_type": "code",
   "source": "gradients[list(gradients.keys())[0]].data",
   "id": "8c8032c94161ac7f",
   "outputs": [
    {
     "ename": "IndexError",
     "evalue": "list index out of range",
     "output_type": "error",
     "traceback": [
      "\u001B[0;31m---------------------------------------------------------------------------\u001B[0m",
      "\u001B[0;31mIndexError\u001B[0m                                Traceback (most recent call last)",
      "Cell \u001B[0;32mIn[162], line 1\u001B[0m\n\u001B[0;32m----> 1\u001B[0m gradients[\u001B[38;5;28;43mlist\u001B[39;49m\u001B[43m(\u001B[49m\u001B[43mgradients\u001B[49m\u001B[38;5;241;43m.\u001B[39;49m\u001B[43mkeys\u001B[49m\u001B[43m(\u001B[49m\u001B[43m)\u001B[49m\u001B[43m)\u001B[49m\u001B[43m[\u001B[49m\u001B[38;5;241;43m0\u001B[39;49m\u001B[43m]\u001B[49m]\u001B[38;5;241m.\u001B[39mdata\n",
      "\u001B[0;31mIndexError\u001B[0m: list index out of range"
     ]
    }
   ],
   "execution_count": 162
  },
  {
   "metadata": {},
   "cell_type": "code",
   "outputs": [],
   "execution_count": 6,
   "source": [
    "input_text1 = \"Can brain cells move? By movement I mean long distance migration (preferably within the brain only).\"\n",
    "input_text2 = \"Is it possible for brain cells to migrate over long distances, specifically within the brain itself?\""
   ],
   "id": "1cef08c5c2c146be"
  },
  {
   "metadata": {},
   "cell_type": "code",
   "outputs": [],
   "execution_count": 7,
   "source": [
    "inputs1 = tokenizer(input_text1, return_tensors='pt')\n",
    "inputs2 = tokenizer(input_text2, return_tensors='pt')"
   ],
   "id": "fa92678fc17abb46"
  },
  {
   "metadata": {},
   "cell_type": "code",
   "outputs": [],
   "execution_count": null,
   "source": [
    "inputs1 = {k: v.to(device).requires_grad_(True) for k, v in inputs1.items()}\n",
    "inputs2 = {k: v.to(device).requires_grad_(True) for k, v in inputs2.items()}"
   ],
   "id": "acc83cc8e5a1d3dd"
  },
  {
   "metadata": {},
   "cell_type": "code",
   "outputs": [],
   "execution_count": null,
   "source": [
    "output1 = olmo(**inputs1)\n",
    "output2 = olmo(**inputs2)"
   ],
   "id": "eea99c860d840be5"
  },
  {
   "metadata": {},
   "cell_type": "markdown",
   "source": "",
   "id": "bc26e3e0e8dd2806"
  },
  {
   "metadata": {},
   "cell_type": "code",
   "outputs": [],
   "execution_count": null,
   "source": [
    "# todo: investigate how olmo uses a single training iteration, check masking\n",
    "# todo: add filtering with regard to open instruct (threshold for similarity)\n",
    "# todo: ranking between sampling\n",
    "# todo: tf-idf -> term-frequency inverse-document-frequency\n",
    "# todo: think about explainability vs. similarity"
   ],
   "id": "e1ce277adef4a061"
  }
 ],
 "metadata": {
  "kernelspec": {
   "display_name": "Python 3",
   "language": "python",
   "name": "python3"
  },
  "language_info": {
   "codemirror_mode": {
    "name": "ipython",
    "version": 2
   },
   "file_extension": ".py",
   "mimetype": "text/x-python",
   "name": "python",
   "nbconvert_exporter": "python",
   "pygments_lexer": "ipython2",
   "version": "2.7.6"
  }
 },
 "nbformat": 4,
 "nbformat_minor": 5
}
