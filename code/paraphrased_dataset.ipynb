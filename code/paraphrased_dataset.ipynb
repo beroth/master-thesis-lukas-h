{
 "cells": [
  {
   "metadata": {
    "ExecuteTime": {
     "end_time": "2024-06-12T07:27:39.681629Z",
     "start_time": "2024-06-12T07:27:38.265825Z"
    }
   },
   "cell_type": "code",
   "source": [
    "from datasets import load_dataset\n",
    "from dotenv import load_dotenv\n",
    "from openai import OpenAI\n",
    "\n",
    "from tqdm import tqdm\n",
    "\n",
    "load_dotenv()"
   ],
   "id": "initial_id",
   "outputs": [
    {
     "data": {
      "text/plain": [
       "True"
      ]
     },
     "execution_count": 1,
     "metadata": {},
     "output_type": "execute_result"
    }
   ],
   "execution_count": 1
  },
  {
   "metadata": {
    "ExecuteTime": {
     "end_time": "2024-06-12T07:27:39.715267Z",
     "start_time": "2024-06-12T07:27:39.683102Z"
    }
   },
   "cell_type": "code",
   "source": [
    "client = OpenAI()\n",
    "\n",
    "paraphrasing_system_prompt = \\\n",
    "\"\"\"\n",
    "You are a paraphrasing expert who is specialized in rewriting text (questions, statements, etc.) without altering the content. Keep in mind, that the meaning must not change after the paraphrasing. Just output the paraphrased text without any additional information.\n",
    "\"\"\""
   ],
   "id": "bf784390fcb96be",
   "outputs": [],
   "execution_count": 2
  },
  {
   "metadata": {
    "ExecuteTime": {
     "end_time": "2024-06-12T07:27:39.719069Z",
     "start_time": "2024-06-12T07:27:39.716182Z"
    }
   },
   "cell_type": "code",
   "source": [
    "def paraphrase_input(input: str):\n",
    "    response = client.chat.completions.create(\n",
    "        model=\"gpt-3.5-turbo\",\n",
    "        messages=[\n",
    "            {\"role\": \"system\", \"content\": paraphrasing_system_prompt},\n",
    "            {\"role\": \"user\", \"content\": input}\n",
    "        ],\n",
    "        seed=42,\n",
    "        temperature=1,\n",
    "    )\n",
    "\n",
    "    return response.choices[0].message.content"
   ],
   "id": "5aa53209a194e172",
   "outputs": [],
   "execution_count": 3
  },
  {
   "metadata": {
    "ExecuteTime": {
     "end_time": "2024-06-12T07:29:03.193228Z",
     "start_time": "2024-06-12T07:28:30.173367Z"
    }
   },
   "cell_type": "code",
   "source": "data = load_dataset(\"allenai/tulu-v2-sft-mixture\", split=\"train\")",
   "id": "8699159261203cdf",
   "outputs": [
    {
     "name": "stderr",
     "output_type": "stream",
     "text": [
      "Using the latest cached version of the dataset since allenai/tulu-v2-sft-mixture couldn't be found on the Hugging Face Hub\n",
      "Found the latest cached dataset configuration 'default' at /home/lukashinterleitner/.cache/huggingface/datasets/allenai___tulu-v2-sft-mixture/default/0.0.0/6248b175d2ccb5ec7c4aeb22e6d8ee3b21b2c752 (last modified on Tue Jun 11 19:05:28 2024).\n"
     ]
    }
   ],
   "execution_count": 6
  },
  {
   "metadata": {
    "ExecuteTime": {
     "end_time": "2024-06-12T07:29:12.039354Z",
     "start_time": "2024-06-12T07:29:12.031905Z"
    }
   },
   "cell_type": "code",
   "source": [
    "# select only data where dataset is \"lima\"\n",
    "lima_data = data.filter(lambda x: x[\"dataset\"] == \"lima\")"
   ],
   "id": "8da34de505209132",
   "outputs": [],
   "execution_count": 7
  },
  {
   "metadata": {
    "ExecuteTime": {
     "end_time": "2024-06-12T07:29:15.324778Z",
     "start_time": "2024-06-12T07:29:15.314715Z"
    }
   },
   "cell_type": "code",
   "source": [
    "single_question_answers = lima_data.filter(lambda x: len(x[\"messages\"]) == 2)\n",
    "single_question_answers"
   ],
   "id": "5adf92c41e5c5fb4",
   "outputs": [
    {
     "data": {
      "text/plain": [
       "Dataset({\n",
       "    features: ['dataset', 'id', 'messages'],\n",
       "    num_rows: 988\n",
       "})"
      ]
     },
     "execution_count": 8,
     "metadata": {},
     "output_type": "execute_result"
    }
   ],
   "execution_count": 8
  },
  {
   "metadata": {
    "ExecuteTime": {
     "end_time": "2024-06-12T07:47:35.805556Z",
     "start_time": "2024-06-12T07:29:18.453727Z"
    }
   },
   "cell_type": "code",
   "source": [
    "paraphrased = []\n",
    "\n",
    "for row in tqdm(single_question_answers):\n",
    "    paraphrased.append((row[\"id\"], paraphrase_input(row[\"messages\"][0][\"content\"])))"
   ],
   "id": "7180d472284b1546",
   "outputs": [
    {
     "name": "stderr",
     "output_type": "stream",
     "text": [
      "100%|██████████| 988/988 [18:17<00:00,  1.11s/it]\n"
     ]
    }
   ],
   "execution_count": 9
  },
  {
   "metadata": {
    "ExecuteTime": {
     "end_time": "2024-06-12T08:49:44.529658Z",
     "start_time": "2024-06-12T08:49:44.510802Z"
    }
   },
   "cell_type": "code",
   "source": [
    "lima_data_paraphrased = single_question_answers.add_column(\"paraphrased_id\", [p[0] for p in paraphrased])\n",
    "lima_data_paraphrased = lima_data_paraphrased.add_column(\"paraphrased_messages\", [[p[1],None] for p in paraphrased])"
   ],
   "id": "45125078433aa87e",
   "outputs": [],
   "execution_count": 15
  },
  {
   "metadata": {
    "ExecuteTime": {
     "end_time": "2024-06-12T08:49:45.193225Z",
     "start_time": "2024-06-12T08:49:45.186885Z"
    }
   },
   "cell_type": "code",
   "source": "lima_data_paraphrased",
   "id": "75ee815f8dfe10d9",
   "outputs": [
    {
     "data": {
      "text/plain": [
       "Dataset({\n",
       "    features: ['dataset', 'id', 'messages', 'paraphrased_id', 'paraphrased_messages'],\n",
       "    num_rows: 988\n",
       "})"
      ]
     },
     "execution_count": 16,
     "metadata": {},
     "output_type": "execute_result"
    }
   ],
   "execution_count": 16
  },
  {
   "metadata": {
    "ExecuteTime": {
     "end_time": "2024-06-12T08:49:53.175612Z",
     "start_time": "2024-06-12T08:49:53.100989Z"
    }
   },
   "cell_type": "code",
   "source": [
    "test = True\n",
    "for row in lima_data_paraphrased:\n",
    "    test = test and (row[\"id\"] == row[\"paraphrased_id\"])\n",
    "    \n",
    "test"
   ],
   "id": "40a488aa5a16ab4e",
   "outputs": [
    {
     "data": {
      "text/plain": [
       "True"
      ]
     },
     "execution_count": 17,
     "metadata": {},
     "output_type": "execute_result"
    }
   ],
   "execution_count": 17
  },
  {
   "metadata": {
    "ExecuteTime": {
     "end_time": "2024-06-12T08:49:54.219537Z",
     "start_time": "2024-06-12T08:49:54.207222Z"
    }
   },
   "cell_type": "code",
   "source": [
    "lima_data_paraphrased = lima_data_paraphrased.remove_columns(\"paraphrased_id\")\n",
    "lima_data_paraphrased"
   ],
   "id": "93af8b682db5a5f8",
   "outputs": [
    {
     "data": {
      "text/plain": [
       "Dataset({\n",
       "    features: ['dataset', 'id', 'messages', 'paraphrased_messages'],\n",
       "    num_rows: 988\n",
       "})"
      ]
     },
     "execution_count": 18,
     "metadata": {},
     "output_type": "execute_result"
    }
   ],
   "execution_count": 18
  },
  {
   "metadata": {},
   "cell_type": "code",
   "outputs": [
    {
     "name": "stdout",
     "output_type": "stream",
     "text": [
      "Can brain cells move? By movement I mean long distance migration (preferably within the brain only).\n"
     ]
    }
   ],
   "execution_count": 9,
   "source": "print(lima_data_paraphrased[\"messages\"][0][0][\"content\"])",
   "id": "be8043437f47a6ec"
  },
  {
   "metadata": {
    "ExecuteTime": {
     "end_time": "2024-06-11T17:21:17.669158Z",
     "start_time": "2024-06-11T17:21:17.598509Z"
    }
   },
   "cell_type": "code",
   "source": "print(lima_data_paraphrased[\"messages\"][0][1][\"content\"])",
   "id": "b4f8e914708c8a6b",
   "outputs": [
    {
     "name": "stdout",
     "output_type": "stream",
     "text": [
      "The question is relatively broad and one should take into account that the brain not only consists of neurons, but also glial cells (supportive cells) and pre-mitotic neuronal stem cells. Furthermore, as critical fellow-scientists have indicated, developmental stage is very important, as the developing embryonic brain is very different from the adult brain.\n",
      "However, after sifting through various publications, the answer to the question is actually remarkably simple: Yes, brain cells migrate.\n",
      "In  the adult brain glial cells migrate in the brain (Klämbt, 2009). Glial cells are involved in a myriad of functions, but a notable example of migrating glial cells are the oligodendrocytes that migrate relative long distances to find their target axons onto which they wrap themselves to form the insulating myelin sheath (Tsai and Miller, 2002).\n",
      "Neuronal stem cells migrate over long distances in response to injury (Imitola et al., 2004) and they migrate from specific stem-cell locations (e.g., hippocampus and subventricular zone) to other regions (Clarke, 2003).\n",
      "Post-mitotic, but non-differentiated neurons have been shown to migrate in the adult brain in fish (Scott et al., 2012), and in mammals and non-human primates as well (Sawada et al., 2011).\n",
      "Not surprisingly, glial cells, stem cells and neurons also migrate during embryonic development. Most notably, post-mitotic neurons destined to fulfill peripheral functions have to migrate over relatively long distances from the neural crest to their target locations (Neuroscience, 2nd ed, Neuronal Migration).\n"
     ]
    }
   ],
   "execution_count": 66
  },
  {
   "metadata": {
    "ExecuteTime": {
     "end_time": "2024-06-11T17:21:36.295663Z",
     "start_time": "2024-06-11T17:21:36.282575Z"
    }
   },
   "cell_type": "code",
   "source": "print(lima_data_paraphrased[\"paraphrased_inputs\"][0])",
   "id": "7963ca277303bac4",
   "outputs": [
    {
     "name": "stdout",
     "output_type": "stream",
     "text": [
      "Is it possible for brain cells to migrate over long distances, specifically within the brain itself?\n"
     ]
    }
   ],
   "execution_count": 67
  },
  {
   "metadata": {
    "ExecuteTime": {
     "end_time": "2024-06-12T09:29:55.224602Z",
     "start_time": "2024-06-12T09:29:55.162806Z"
    }
   },
   "cell_type": "code",
   "source": "print(lima_data_paraphrased[\"messages\"][1][0][\"content\"])",
   "id": "663a19ab816cbffb",
   "outputs": [
    {
     "name": "stdout",
     "output_type": "stream",
     "text": [
      "In our computer systems lecture we were introduced to the MIPS processor. It was (re)developed over the course of the term and has in fact been quite easy to understand. It uses a RISC design, that is its elementary commands are regularly encoded and there are only few of them in order to keep the wires simple.\n",
      "It was mentioned that CISC follows a different philosophy. I looked briefly at the x86 instruction set and was shocked. I can not image how anyone would want to build a processor that uses so complex a command set!\n",
      "So I figure there have to be good arguments why large portions of the processor market use CISC architectures. What are they? \n"
     ]
    }
   ],
   "execution_count": 19
  },
  {
   "metadata": {
    "ExecuteTime": {
     "end_time": "2024-06-12T09:37:05.558887Z",
     "start_time": "2024-06-12T09:37:05.554204Z"
    }
   },
   "cell_type": "code",
   "source": [
    "paraphrasing_system_prompt_2 = \\\n",
    "\"\"\"\n",
    "You are a paraphrasing expert who is specialized in rewriting text (questions, statements, etc.). In your paraphrase, use the words MIPS, RISC and CISC.\n",
    "\"\"\""
   ],
   "id": "d4bc431740fb92ab",
   "outputs": [],
   "execution_count": 39
  },
  {
   "metadata": {
    "ExecuteTime": {
     "end_time": "2024-06-12T09:37:06.873482Z",
     "start_time": "2024-06-12T09:37:05.852667Z"
    }
   },
   "cell_type": "code",
   "source": [
    "response = client.chat.completions.create(\n",
    "        model=\"gpt-3.5-turbo\",\n",
    "        messages=[\n",
    "            {\"role\": \"system\", \"content\": paraphrasing_system_prompt_2},\n",
    "            {\"role\": \"user\", \"content\": lima_data_paraphrased[\"messages\"][0][0][\"content\"]}\n",
    "        ],\n",
    "        seed=42,\n",
    "        temperature=1,\n",
    "    )\n",
    "\n",
    "response.choices[0].message.content"
   ],
   "id": "48600582ad8b6ac0",
   "outputs": [
    {
     "data": {
      "text/plain": [
       "'Do neurons have the ability to migrate over long distances within the brain, in the context of discussions about instruction execution in computer processors, particularly comparing MIPS, RISC, and CISC architectures?'"
      ]
     },
     "execution_count": 40,
     "metadata": {},
     "output_type": "execute_result"
    }
   ],
   "execution_count": 40
  },
  {
   "metadata": {},
   "cell_type": "code",
   "outputs": [],
   "execution_count": null,
   "source": "",
   "id": "1fe2976fb98577df"
  }
 ],
 "metadata": {
  "kernelspec": {
   "display_name": "Python 3",
   "language": "python",
   "name": "python3"
  },
  "language_info": {
   "codemirror_mode": {
    "name": "ipython",
    "version": 2
   },
   "file_extension": ".py",
   "mimetype": "text/x-python",
   "name": "python",
   "nbconvert_exporter": "python",
   "pygments_lexer": "ipython2",
   "version": "2.7.6"
  }
 },
 "nbformat": 4,
 "nbformat_minor": 5
}
